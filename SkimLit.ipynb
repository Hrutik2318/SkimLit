{
  "cells": [
    {
      "cell_type": "markdown",
      "id": "ba5f30e5-eea6-4ec5-9e10-30335a3826e8",
      "metadata": {
        "id": "ba5f30e5-eea6-4ec5-9e10-30335a3826e8"
      },
      "source": [
        "# SkimLit (Skim Literature)"
      ]
    },
    {
      "cell_type": "code",
      "execution_count": 92,
      "id": "65414ec1-c7e4-41e1-9454-196f2cdea88f",
      "metadata": {
        "id": "65414ec1-c7e4-41e1-9454-196f2cdea88f",
        "colab": {
          "base_uri": "https://localhost:8080/"
        },
        "outputId": "ea025c51-3ff7-4d5b-da3a-111fc9bc2a7c"
      },
      "outputs": [
        {
          "output_type": "stream",
          "name": "stdout",
          "text": [
            "Drive already mounted at /content/drive; to attempt to forcibly remount, call drive.mount(\"/content/drive\", force_remount=True).\n"
          ]
        }
      ],
      "source": [
        "from google.colab import drive\n",
        "drive.mount('/content/drive')"
      ]
    },
    {
      "cell_type": "code",
      "execution_count": 93,
      "id": "e34b6f77-b4d7-4c5c-9166-f278494ed7a3",
      "metadata": {
        "colab": {
          "base_uri": "https://localhost:8080/"
        },
        "id": "e34b6f77-b4d7-4c5c-9166-f278494ed7a3",
        "outputId": "7184d490-85f5-43e4-cd6a-d5ba80b8c7be"
      },
      "outputs": [
        {
          "output_type": "stream",
          "name": "stdout",
          "text": [
            "2.9.2\n"
          ]
        }
      ],
      "source": [
        "import tensorflow as tf\n",
        "print(tf.__version__)"
      ]
    },
    {
      "cell_type": "markdown",
      "id": "e597a8f4-dc3c-4882-877d-ede7e5100915",
      "metadata": {
        "id": "e597a8f4-dc3c-4882-877d-ede7e5100915"
      },
      "source": [
        "## Downloading the data"
      ]
    },
    {
      "cell_type": "code",
      "execution_count": 94,
      "id": "2c5513a7-57a0-4cfe-ab7b-f5961dd6386e",
      "metadata": {
        "colab": {
          "base_uri": "https://localhost:8080/"
        },
        "id": "2c5513a7-57a0-4cfe-ab7b-f5961dd6386e",
        "outputId": "b932db7e-ed89-40b3-fd92-2f5808d4d0e7"
      },
      "outputs": [
        {
          "output_type": "stream",
          "name": "stdout",
          "text": [
            "fatal: destination path 'pubmed-rct' already exists and is not an empty directory.\n",
            "PubMed_200k_RCT\n",
            "PubMed_200k_RCT_numbers_replaced_with_at_sign\n",
            "PubMed_20k_RCT\n",
            "PubMed_20k_RCT_numbers_replaced_with_at_sign\n",
            "README.md\n"
          ]
        }
      ],
      "source": [
        "!git clone https://github.com/Franck-Dernoncourt/pubmed-rct.git\n",
        "!ls pubmed-rct"
      ]
    },
    {
      "cell_type": "code",
      "execution_count": 95,
      "id": "e1aa8baa-cc7b-4d48-b4f6-6254a28d5c33",
      "metadata": {
        "id": "e1aa8baa-cc7b-4d48-b4f6-6254a28d5c33"
      },
      "outputs": [],
      "source": [
        "# I will be using PubMed_20k_RCT_numbers_replaced_with_at_sign dataset\n",
        "data_dir = \"pubmed-rct/PubMed_20k_RCT_numbers_replaced_with_at_sign/\""
      ]
    },
    {
      "cell_type": "code",
      "execution_count": 96,
      "id": "b90b0946-0cc7-443e-9e43-fcf62f790876",
      "metadata": {
        "colab": {
          "base_uri": "https://localhost:8080/"
        },
        "id": "b90b0946-0cc7-443e-9e43-fcf62f790876",
        "outputId": "7c2f5fad-9d2d-494c-b0cb-63cb09253f53"
      },
      "outputs": [
        {
          "output_type": "execute_result",
          "data": {
            "text/plain": [
              "['pubmed-rct/PubMed_20k_RCT_numbers_replaced_with_at_sign/train.txt',\n",
              " 'pubmed-rct/PubMed_20k_RCT_numbers_replaced_with_at_sign/test.txt',\n",
              " 'pubmed-rct/PubMed_20k_RCT_numbers_replaced_with_at_sign/dev.txt']"
            ]
          },
          "metadata": {},
          "execution_count": 96
        }
      ],
      "source": [
        "# Checking all of the filenames in the target directory\n",
        "import os\n",
        "\n",
        "filenames = [data_dir+filename for filename in os.listdir(data_dir)]\n",
        "filenames"
      ]
    },
    {
      "cell_type": "markdown",
      "id": "bfea31a5-1710-4cd5-993d-6f85f3783e1b",
      "metadata": {
        "id": "bfea31a5-1710-4cd5-993d-6f85f3783e1b"
      },
      "source": [
        "## Data Preprocessing"
      ]
    },
    {
      "cell_type": "code",
      "execution_count": 97,
      "id": "85873813-28aa-42fb-8bc5-e62a2cfcaed5",
      "metadata": {
        "id": "85873813-28aa-42fb-8bc5-e62a2cfcaed5"
      },
      "outputs": [],
      "source": [
        "def get_lines(filename):\n",
        "    \"\"\"\n",
        "    Reads a text file and returns lines of text as a list.\n",
        "    \n",
        "    Args:\n",
        "        filename: a string containing the target filepath to read.\n",
        "  \n",
        "    Returns:\n",
        "        A list of strings with one string per line from the target filename.\n",
        "        For example:\n",
        "        [\"this is the first line of filename\",\n",
        "        \"this is the second line of filename\",\n",
        "        \"...\"]\n",
        "    \"\"\"\n",
        "    \n",
        "    with open(filename, 'r') as f:\n",
        "        return f.readlines()"
      ]
    },
    {
      "cell_type": "code",
      "execution_count": 98,
      "id": "f0261bcc-e2c1-43ca-bdbc-eb33e4644fc4",
      "metadata": {
        "colab": {
          "base_uri": "https://localhost:8080/"
        },
        "id": "f0261bcc-e2c1-43ca-bdbc-eb33e4644fc4",
        "outputId": "e1c9ea9d-91f8-41af-cb35-fa0a4d53cdc3"
      },
      "outputs": [
        {
          "output_type": "execute_result",
          "data": {
            "text/plain": [
              "['###24293578\\n',\n",
              " 'OBJECTIVE\\tTo investigate the efficacy of @ weeks of daily low-dose oral prednisolone in improving pain , mobility , and systemic low-grade inflammation in the short term and whether the effect would be sustained at @ weeks in older adults with moderate to severe knee osteoarthritis ( OA ) .\\n',\n",
              " 'METHODS\\tA total of @ patients with primary knee OA were randomized @:@ ; @ received @ mg/day of prednisolone and @ received placebo for @ weeks .\\n',\n",
              " 'METHODS\\tOutcome measures included pain reduction and improvement in function scores and systemic inflammation markers .\\n',\n",
              " 'METHODS\\tPain was assessed using the visual analog pain scale ( @-@ mm ) .\\n',\n",
              " 'METHODS\\tSecondary outcome measures included the Western Ontario and McMaster Universities Osteoarthritis Index scores , patient global assessment ( PGA ) of the severity of knee OA , and @-min walk distance ( @MWD ) .\\n',\n",
              " 'METHODS\\tSerum levels of interleukin @ ( IL-@ ) , IL-@ , tumor necrosis factor ( TNF ) - , and high-sensitivity C-reactive protein ( hsCRP ) were measured .\\n',\n",
              " 'RESULTS\\tThere was a clinically relevant reduction in the intervention group compared to the placebo group for knee pain , physical function , PGA , and @MWD at @ weeks .\\n',\n",
              " 'RESULTS\\tThe mean difference between treatment arms ( @ % CI ) was @ ( @-@ @ ) , p < @ ; @ ( @-@ @ ) , p < @ ; @ ( @-@ @ ) , p < @ ; and @ ( @-@ @ ) , p < @ , respectively .\\n',\n",
              " 'RESULTS\\tFurther , there was a clinically relevant reduction in the serum levels of IL-@ , IL-@ , TNF - , and hsCRP at @ weeks in the intervention group when compared to the placebo group .\\n',\n",
              " 'RESULTS\\tThese differences remained significant at @ weeks .\\n',\n",
              " 'RESULTS\\tThe Outcome Measures in Rheumatology Clinical Trials-Osteoarthritis Research Society International responder rate was @ % in the intervention group and @ % in the placebo group ( p < @ ) .\\n',\n",
              " 'CONCLUSIONS\\tLow-dose oral prednisolone had both a short-term and a longer sustained effect resulting in less knee pain , better physical function , and attenuation of systemic inflammation in older patients with knee OA ( ClinicalTrials.gov identifier NCT@ ) .\\n',\n",
              " '\\n',\n",
              " '###24854809\\n',\n",
              " 'BACKGROUND\\tEmotional eating is associated with overeating and the development of obesity .\\n',\n",
              " 'BACKGROUND\\tYet , empirical evidence for individual ( trait ) differences in emotional eating and cognitive mechanisms that contribute to eating during sad mood remain equivocal .\\n',\n",
              " 'OBJECTIVE\\tThe aim of this study was to test if attention bias for food moderates the effect of self-reported emotional eating during sad mood ( vs neutral mood ) on actual food intake .\\n',\n",
              " 'OBJECTIVE\\tIt was expected that emotional eating is predictive of elevated attention for food and higher food intake after an experimentally induced sad mood and that attentional maintenance on food predicts food intake during a sad versus a neutral mood .\\n',\n",
              " 'METHODS\\tParticipants ( N = @ ) were randomly assigned to one of the two experimental mood induction conditions ( sad/neutral ) .\\n']"
            ]
          },
          "metadata": {},
          "execution_count": 98
        }
      ],
      "source": [
        "train_lines = get_lines(data_dir + \"train.txt\")\n",
        "train_lines[:20]"
      ]
    },
    {
      "cell_type": "code",
      "execution_count": 99,
      "id": "d71a10ce-7295-4817-8f21-f6c76c9bbd41",
      "metadata": {
        "id": "d71a10ce-7295-4817-8f21-f6c76c9bbd41"
      },
      "outputs": [],
      "source": [
        "def preprocess_text_with_line_numbers(filename):\n",
        "    \"\"\"\n",
        "    Returns a list of dictionaries of abstract line data.\n",
        "\n",
        "    Takes in filename, reads its contents and sorts through each line,\n",
        "    extracting things like the target label, the text of the sentence,\n",
        "    how many sentences are in the current abstract and what sentence number\n",
        "    the target line is.\n",
        "\n",
        "    Args:\n",
        "    filename: a string of the target text file to read and extract line data\n",
        "    from.\n",
        "\n",
        "    Returns:\n",
        "    A list of dictionaries each containing a line from an abstract,\n",
        "    the lines label, the lines position in the abstract and the total number\n",
        "    of lines in the abstract where the line is from. For example:\n",
        "\n",
        "    [{\"target\": 'CONCLUSION',\n",
        "    \"text\": The study couldn't have gone better, turns out people are kinder than you think\",\n",
        "    \"line_number\": 8,\n",
        "    \"total_lines\": 8}]\n",
        "    \"\"\"\n",
        "    input_lines = get_lines(filename)\n",
        "    abstract_lines = \"\"\n",
        "    abstract_samples = []\n",
        "\n",
        "    for line in input_lines:\n",
        "        if line.startswith(\"###\"):\n",
        "            abstract_lines = \"\"\n",
        "        elif line.isspace():\n",
        "            abstract_line_split = abstract_lines.splitlines()\n",
        "\n",
        "            for abstract_line_number, abstract_line in enumerate(abstract_line_split):\n",
        "                line_data = {}\n",
        "                target_text_split = abstract_line.split(\"\\t\")\n",
        "                line_data[\"target\"] = target_text_split[0]\n",
        "                line_data[\"text\"] = target_text_split[1].lower()\n",
        "                line_data[\"line_number\"] = abstract_line_number\n",
        "                line_data[\"total_lines\"] = len(abstract_line_split) - 1\n",
        "                abstract_samples.append(line_data)\n",
        "        else:\n",
        "            abstract_lines += line\n",
        "\n",
        "    return abstract_samples"
      ]
    },
    {
      "cell_type": "code",
      "execution_count": 100,
      "id": "dd904192-cd0c-46ed-a7c2-147645b6a754",
      "metadata": {
        "colab": {
          "base_uri": "https://localhost:8080/"
        },
        "id": "dd904192-cd0c-46ed-a7c2-147645b6a754",
        "outputId": "9cc0899f-691f-4174-81bf-6c1d89cb1856"
      },
      "outputs": [
        {
          "output_type": "execute_result",
          "data": {
            "text/plain": [
              "(180040, 30212, 30135)"
            ]
          },
          "metadata": {},
          "execution_count": 100
        }
      ],
      "source": [
        "train_samples = preprocess_text_with_line_numbers(data_dir + \"train.txt\")\n",
        "val_samples = preprocess_text_with_line_numbers(data_dir + \"dev.txt\")\n",
        "test_samples = preprocess_text_with_line_numbers(data_dir + \"test.txt\")\n",
        "\n",
        "len(train_samples), len(val_samples), len(test_samples)"
      ]
    },
    {
      "cell_type": "code",
      "execution_count": 101,
      "id": "ee84da1b-0e73-4163-bce2-6a8c406bbaeb",
      "metadata": {
        "colab": {
          "base_uri": "https://localhost:8080/"
        },
        "id": "ee84da1b-0e73-4163-bce2-6a8c406bbaeb",
        "outputId": "1dead6f3-a2e0-4d9d-d216-defe42120d44"
      },
      "outputs": [
        {
          "output_type": "execute_result",
          "data": {
            "text/plain": [
              "[{'target': 'OBJECTIVE',\n",
              "  'text': 'to investigate the efficacy of @ weeks of daily low-dose oral prednisolone in improving pain , mobility , and systemic low-grade inflammation in the short term and whether the effect would be sustained at @ weeks in older adults with moderate to severe knee osteoarthritis ( oa ) .',\n",
              "  'line_number': 0,\n",
              "  'total_lines': 11},\n",
              " {'target': 'METHODS',\n",
              "  'text': 'a total of @ patients with primary knee oa were randomized @:@ ; @ received @ mg/day of prednisolone and @ received placebo for @ weeks .',\n",
              "  'line_number': 1,\n",
              "  'total_lines': 11},\n",
              " {'target': 'METHODS',\n",
              "  'text': 'outcome measures included pain reduction and improvement in function scores and systemic inflammation markers .',\n",
              "  'line_number': 2,\n",
              "  'total_lines': 11},\n",
              " {'target': 'METHODS',\n",
              "  'text': 'pain was assessed using the visual analog pain scale ( @-@ mm ) .',\n",
              "  'line_number': 3,\n",
              "  'total_lines': 11},\n",
              " {'target': 'METHODS',\n",
              "  'text': 'secondary outcome measures included the western ontario and mcmaster universities osteoarthritis index scores , patient global assessment ( pga ) of the severity of knee oa , and @-min walk distance ( @mwd ) .',\n",
              "  'line_number': 4,\n",
              "  'total_lines': 11},\n",
              " {'target': 'METHODS',\n",
              "  'text': 'serum levels of interleukin @ ( il-@ ) , il-@ , tumor necrosis factor ( tnf ) - , and high-sensitivity c-reactive protein ( hscrp ) were measured .',\n",
              "  'line_number': 5,\n",
              "  'total_lines': 11},\n",
              " {'target': 'RESULTS',\n",
              "  'text': 'there was a clinically relevant reduction in the intervention group compared to the placebo group for knee pain , physical function , pga , and @mwd at @ weeks .',\n",
              "  'line_number': 6,\n",
              "  'total_lines': 11},\n",
              " {'target': 'RESULTS',\n",
              "  'text': 'the mean difference between treatment arms ( @ % ci ) was @ ( @-@ @ ) , p < @ ; @ ( @-@ @ ) , p < @ ; @ ( @-@ @ ) , p < @ ; and @ ( @-@ @ ) , p < @ , respectively .',\n",
              "  'line_number': 7,\n",
              "  'total_lines': 11},\n",
              " {'target': 'RESULTS',\n",
              "  'text': 'further , there was a clinically relevant reduction in the serum levels of il-@ , il-@ , tnf - , and hscrp at @ weeks in the intervention group when compared to the placebo group .',\n",
              "  'line_number': 8,\n",
              "  'total_lines': 11},\n",
              " {'target': 'RESULTS',\n",
              "  'text': 'these differences remained significant at @ weeks .',\n",
              "  'line_number': 9,\n",
              "  'total_lines': 11},\n",
              " {'target': 'RESULTS',\n",
              "  'text': 'the outcome measures in rheumatology clinical trials-osteoarthritis research society international responder rate was @ % in the intervention group and @ % in the placebo group ( p < @ ) .',\n",
              "  'line_number': 10,\n",
              "  'total_lines': 11},\n",
              " {'target': 'CONCLUSIONS',\n",
              "  'text': 'low-dose oral prednisolone had both a short-term and a longer sustained effect resulting in less knee pain , better physical function , and attenuation of systemic inflammation in older patients with knee oa ( clinicaltrials.gov identifier nct@ ) .',\n",
              "  'line_number': 11,\n",
              "  'total_lines': 11},\n",
              " {'target': 'BACKGROUND',\n",
              "  'text': 'emotional eating is associated with overeating and the development of obesity .',\n",
              "  'line_number': 0,\n",
              "  'total_lines': 10},\n",
              " {'target': 'BACKGROUND',\n",
              "  'text': 'yet , empirical evidence for individual ( trait ) differences in emotional eating and cognitive mechanisms that contribute to eating during sad mood remain equivocal .',\n",
              "  'line_number': 1,\n",
              "  'total_lines': 10}]"
            ]
          },
          "metadata": {},
          "execution_count": 101
        }
      ],
      "source": [
        "train_samples[:14]"
      ]
    },
    {
      "cell_type": "code",
      "execution_count": 102,
      "id": "5ec4f445-5c4d-4e3a-b644-9b8ef4b6b8a4",
      "metadata": {
        "colab": {
          "base_uri": "https://localhost:8080/",
          "height": 519
        },
        "id": "5ec4f445-5c4d-4e3a-b644-9b8ef4b6b8a4",
        "outputId": "0d41976b-55cf-4d2d-b778-175c72a3c371"
      },
      "outputs": [
        {
          "output_type": "execute_result",
          "data": {
            "text/plain": [
              "         target                                               text  \\\n",
              "0     OBJECTIVE  to investigate the efficacy of @ weeks of dail...   \n",
              "1       METHODS  a total of @ patients with primary knee oa wer...   \n",
              "2       METHODS  outcome measures included pain reduction and i...   \n",
              "3       METHODS  pain was assessed using the visual analog pain...   \n",
              "4       METHODS  secondary outcome measures included the wester...   \n",
              "5       METHODS  serum levels of interleukin @ ( il-@ ) , il-@ ...   \n",
              "6       RESULTS  there was a clinically relevant reduction in t...   \n",
              "7       RESULTS  the mean difference between treatment arms ( @...   \n",
              "8       RESULTS  further , there was a clinically relevant redu...   \n",
              "9       RESULTS  these differences remained significant at @ we...   \n",
              "10      RESULTS  the outcome measures in rheumatology clinical ...   \n",
              "11  CONCLUSIONS  low-dose oral prednisolone had both a short-te...   \n",
              "12   BACKGROUND  emotional eating is associated with overeating...   \n",
              "13   BACKGROUND  yet , empirical evidence for individual ( trai...   \n",
              "14    OBJECTIVE  the aim of this study was to test if attention...   \n",
              "\n",
              "    line_number  total_lines  \n",
              "0             0           11  \n",
              "1             1           11  \n",
              "2             2           11  \n",
              "3             3           11  \n",
              "4             4           11  \n",
              "5             5           11  \n",
              "6             6           11  \n",
              "7             7           11  \n",
              "8             8           11  \n",
              "9             9           11  \n",
              "10           10           11  \n",
              "11           11           11  \n",
              "12            0           10  \n",
              "13            1           10  \n",
              "14            2           10  "
            ],
            "text/html": [
              "\n",
              "  <div id=\"df-6018084a-1e64-4558-ae96-04b0d5a72d0d\">\n",
              "    <div class=\"colab-df-container\">\n",
              "      <div>\n",
              "<style scoped>\n",
              "    .dataframe tbody tr th:only-of-type {\n",
              "        vertical-align: middle;\n",
              "    }\n",
              "\n",
              "    .dataframe tbody tr th {\n",
              "        vertical-align: top;\n",
              "    }\n",
              "\n",
              "    .dataframe thead th {\n",
              "        text-align: right;\n",
              "    }\n",
              "</style>\n",
              "<table border=\"1\" class=\"dataframe\">\n",
              "  <thead>\n",
              "    <tr style=\"text-align: right;\">\n",
              "      <th></th>\n",
              "      <th>target</th>\n",
              "      <th>text</th>\n",
              "      <th>line_number</th>\n",
              "      <th>total_lines</th>\n",
              "    </tr>\n",
              "  </thead>\n",
              "  <tbody>\n",
              "    <tr>\n",
              "      <th>0</th>\n",
              "      <td>OBJECTIVE</td>\n",
              "      <td>to investigate the efficacy of @ weeks of dail...</td>\n",
              "      <td>0</td>\n",
              "      <td>11</td>\n",
              "    </tr>\n",
              "    <tr>\n",
              "      <th>1</th>\n",
              "      <td>METHODS</td>\n",
              "      <td>a total of @ patients with primary knee oa wer...</td>\n",
              "      <td>1</td>\n",
              "      <td>11</td>\n",
              "    </tr>\n",
              "    <tr>\n",
              "      <th>2</th>\n",
              "      <td>METHODS</td>\n",
              "      <td>outcome measures included pain reduction and i...</td>\n",
              "      <td>2</td>\n",
              "      <td>11</td>\n",
              "    </tr>\n",
              "    <tr>\n",
              "      <th>3</th>\n",
              "      <td>METHODS</td>\n",
              "      <td>pain was assessed using the visual analog pain...</td>\n",
              "      <td>3</td>\n",
              "      <td>11</td>\n",
              "    </tr>\n",
              "    <tr>\n",
              "      <th>4</th>\n",
              "      <td>METHODS</td>\n",
              "      <td>secondary outcome measures included the wester...</td>\n",
              "      <td>4</td>\n",
              "      <td>11</td>\n",
              "    </tr>\n",
              "    <tr>\n",
              "      <th>5</th>\n",
              "      <td>METHODS</td>\n",
              "      <td>serum levels of interleukin @ ( il-@ ) , il-@ ...</td>\n",
              "      <td>5</td>\n",
              "      <td>11</td>\n",
              "    </tr>\n",
              "    <tr>\n",
              "      <th>6</th>\n",
              "      <td>RESULTS</td>\n",
              "      <td>there was a clinically relevant reduction in t...</td>\n",
              "      <td>6</td>\n",
              "      <td>11</td>\n",
              "    </tr>\n",
              "    <tr>\n",
              "      <th>7</th>\n",
              "      <td>RESULTS</td>\n",
              "      <td>the mean difference between treatment arms ( @...</td>\n",
              "      <td>7</td>\n",
              "      <td>11</td>\n",
              "    </tr>\n",
              "    <tr>\n",
              "      <th>8</th>\n",
              "      <td>RESULTS</td>\n",
              "      <td>further , there was a clinically relevant redu...</td>\n",
              "      <td>8</td>\n",
              "      <td>11</td>\n",
              "    </tr>\n",
              "    <tr>\n",
              "      <th>9</th>\n",
              "      <td>RESULTS</td>\n",
              "      <td>these differences remained significant at @ we...</td>\n",
              "      <td>9</td>\n",
              "      <td>11</td>\n",
              "    </tr>\n",
              "    <tr>\n",
              "      <th>10</th>\n",
              "      <td>RESULTS</td>\n",
              "      <td>the outcome measures in rheumatology clinical ...</td>\n",
              "      <td>10</td>\n",
              "      <td>11</td>\n",
              "    </tr>\n",
              "    <tr>\n",
              "      <th>11</th>\n",
              "      <td>CONCLUSIONS</td>\n",
              "      <td>low-dose oral prednisolone had both a short-te...</td>\n",
              "      <td>11</td>\n",
              "      <td>11</td>\n",
              "    </tr>\n",
              "    <tr>\n",
              "      <th>12</th>\n",
              "      <td>BACKGROUND</td>\n",
              "      <td>emotional eating is associated with overeating...</td>\n",
              "      <td>0</td>\n",
              "      <td>10</td>\n",
              "    </tr>\n",
              "    <tr>\n",
              "      <th>13</th>\n",
              "      <td>BACKGROUND</td>\n",
              "      <td>yet , empirical evidence for individual ( trai...</td>\n",
              "      <td>1</td>\n",
              "      <td>10</td>\n",
              "    </tr>\n",
              "    <tr>\n",
              "      <th>14</th>\n",
              "      <td>OBJECTIVE</td>\n",
              "      <td>the aim of this study was to test if attention...</td>\n",
              "      <td>2</td>\n",
              "      <td>10</td>\n",
              "    </tr>\n",
              "  </tbody>\n",
              "</table>\n",
              "</div>\n",
              "      <button class=\"colab-df-convert\" onclick=\"convertToInteractive('df-6018084a-1e64-4558-ae96-04b0d5a72d0d')\"\n",
              "              title=\"Convert this dataframe to an interactive table.\"\n",
              "              style=\"display:none;\">\n",
              "        \n",
              "  <svg xmlns=\"http://www.w3.org/2000/svg\" height=\"24px\"viewBox=\"0 0 24 24\"\n",
              "       width=\"24px\">\n",
              "    <path d=\"M0 0h24v24H0V0z\" fill=\"none\"/>\n",
              "    <path d=\"M18.56 5.44l.94 2.06.94-2.06 2.06-.94-2.06-.94-.94-2.06-.94 2.06-2.06.94zm-11 1L8.5 8.5l.94-2.06 2.06-.94-2.06-.94L8.5 2.5l-.94 2.06-2.06.94zm10 10l.94 2.06.94-2.06 2.06-.94-2.06-.94-.94-2.06-.94 2.06-2.06.94z\"/><path d=\"M17.41 7.96l-1.37-1.37c-.4-.4-.92-.59-1.43-.59-.52 0-1.04.2-1.43.59L10.3 9.45l-7.72 7.72c-.78.78-.78 2.05 0 2.83L4 21.41c.39.39.9.59 1.41.59.51 0 1.02-.2 1.41-.59l7.78-7.78 2.81-2.81c.8-.78.8-2.07 0-2.86zM5.41 20L4 18.59l7.72-7.72 1.47 1.35L5.41 20z\"/>\n",
              "  </svg>\n",
              "      </button>\n",
              "      \n",
              "  <style>\n",
              "    .colab-df-container {\n",
              "      display:flex;\n",
              "      flex-wrap:wrap;\n",
              "      gap: 12px;\n",
              "    }\n",
              "\n",
              "    .colab-df-convert {\n",
              "      background-color: #E8F0FE;\n",
              "      border: none;\n",
              "      border-radius: 50%;\n",
              "      cursor: pointer;\n",
              "      display: none;\n",
              "      fill: #1967D2;\n",
              "      height: 32px;\n",
              "      padding: 0 0 0 0;\n",
              "      width: 32px;\n",
              "    }\n",
              "\n",
              "    .colab-df-convert:hover {\n",
              "      background-color: #E2EBFA;\n",
              "      box-shadow: 0px 1px 2px rgba(60, 64, 67, 0.3), 0px 1px 3px 1px rgba(60, 64, 67, 0.15);\n",
              "      fill: #174EA6;\n",
              "    }\n",
              "\n",
              "    [theme=dark] .colab-df-convert {\n",
              "      background-color: #3B4455;\n",
              "      fill: #D2E3FC;\n",
              "    }\n",
              "\n",
              "    [theme=dark] .colab-df-convert:hover {\n",
              "      background-color: #434B5C;\n",
              "      box-shadow: 0px 1px 3px 1px rgba(0, 0, 0, 0.15);\n",
              "      filter: drop-shadow(0px 1px 2px rgba(0, 0, 0, 0.3));\n",
              "      fill: #FFFFFF;\n",
              "    }\n",
              "  </style>\n",
              "\n",
              "      <script>\n",
              "        const buttonEl =\n",
              "          document.querySelector('#df-6018084a-1e64-4558-ae96-04b0d5a72d0d button.colab-df-convert');\n",
              "        buttonEl.style.display =\n",
              "          google.colab.kernel.accessAllowed ? 'block' : 'none';\n",
              "\n",
              "        async function convertToInteractive(key) {\n",
              "          const element = document.querySelector('#df-6018084a-1e64-4558-ae96-04b0d5a72d0d');\n",
              "          const dataTable =\n",
              "            await google.colab.kernel.invokeFunction('convertToInteractive',\n",
              "                                                     [key], {});\n",
              "          if (!dataTable) return;\n",
              "\n",
              "          const docLinkHtml = 'Like what you see? Visit the ' +\n",
              "            '<a target=\"_blank\" href=https://colab.research.google.com/notebooks/data_table.ipynb>data table notebook</a>'\n",
              "            + ' to learn more about interactive tables.';\n",
              "          element.innerHTML = '';\n",
              "          dataTable['output_type'] = 'display_data';\n",
              "          await google.colab.output.renderOutput(dataTable, element);\n",
              "          const docLink = document.createElement('div');\n",
              "          docLink.innerHTML = docLinkHtml;\n",
              "          element.appendChild(docLink);\n",
              "        }\n",
              "      </script>\n",
              "    </div>\n",
              "  </div>\n",
              "  "
            ]
          },
          "metadata": {},
          "execution_count": 102
        }
      ],
      "source": [
        "import pandas as pd\n",
        "\n",
        "train_df = pd.DataFrame(train_samples)\n",
        "val_df = pd.DataFrame(val_samples)\n",
        "test_df = pd.DataFrame(test_samples)\n",
        "\n",
        "train_df.head(15)"
      ]
    },
    {
      "cell_type": "code",
      "execution_count": 103,
      "id": "1715dda6-f234-4ba5-83b7-c95c2c919c66",
      "metadata": {
        "colab": {
          "base_uri": "https://localhost:8080/"
        },
        "id": "1715dda6-f234-4ba5-83b7-c95c2c919c66",
        "outputId": "0d6e77ba-e3e3-4808-a8f2-1b1932cfc171"
      },
      "outputs": [
        {
          "output_type": "execute_result",
          "data": {
            "text/plain": [
              "(180040, 30212)"
            ]
          },
          "metadata": {},
          "execution_count": 103
        }
      ],
      "source": [
        "# Converting abstract text lines into lists \n",
        "train_sentences = train_df[\"text\"].tolist()\n",
        "val_sentences = val_df[\"text\"].tolist()\n",
        "test_sentences = test_df[\"text\"].tolist()\n",
        "\n",
        "len(train_sentences), len(val_sentences)"
      ]
    },
    {
      "cell_type": "code",
      "execution_count": 104,
      "id": "84e729b0-e676-4625-8776-3f30e91cdf2d",
      "metadata": {
        "colab": {
          "base_uri": "https://localhost:8080/"
        },
        "id": "84e729b0-e676-4625-8776-3f30e91cdf2d",
        "outputId": "95ff8809-3a6d-49ac-9e75-638bc7fb1eec"
      },
      "outputs": [
        {
          "output_type": "execute_result",
          "data": {
            "text/plain": [
              "['to investigate the efficacy of @ weeks of daily low-dose oral prednisolone in improving pain , mobility , and systemic low-grade inflammation in the short term and whether the effect would be sustained at @ weeks in older adults with moderate to severe knee osteoarthritis ( oa ) .',\n",
              " 'a total of @ patients with primary knee oa were randomized @:@ ; @ received @ mg/day of prednisolone and @ received placebo for @ weeks .',\n",
              " 'outcome measures included pain reduction and improvement in function scores and systemic inflammation markers .',\n",
              " 'pain was assessed using the visual analog pain scale ( @-@ mm ) .',\n",
              " 'secondary outcome measures included the western ontario and mcmaster universities osteoarthritis index scores , patient global assessment ( pga ) of the severity of knee oa , and @-min walk distance ( @mwd ) .',\n",
              " 'serum levels of interleukin @ ( il-@ ) , il-@ , tumor necrosis factor ( tnf ) - , and high-sensitivity c-reactive protein ( hscrp ) were measured .',\n",
              " 'there was a clinically relevant reduction in the intervention group compared to the placebo group for knee pain , physical function , pga , and @mwd at @ weeks .',\n",
              " 'the mean difference between treatment arms ( @ % ci ) was @ ( @-@ @ ) , p < @ ; @ ( @-@ @ ) , p < @ ; @ ( @-@ @ ) , p < @ ; and @ ( @-@ @ ) , p < @ , respectively .',\n",
              " 'further , there was a clinically relevant reduction in the serum levels of il-@ , il-@ , tnf - , and hscrp at @ weeks in the intervention group when compared to the placebo group .',\n",
              " 'these differences remained significant at @ weeks .']"
            ]
          },
          "metadata": {},
          "execution_count": 104
        }
      ],
      "source": [
        "train_sentences[:10]"
      ]
    },
    {
      "cell_type": "code",
      "execution_count": 105,
      "id": "c788238f-623c-468d-a2bb-90d97b87cff7",
      "metadata": {
        "colab": {
          "base_uri": "https://localhost:8080/"
        },
        "id": "c788238f-623c-468d-a2bb-90d97b87cff7",
        "outputId": "4af8a346-e4b2-4cbf-896d-3b459d4966c0"
      },
      "outputs": [
        {
          "output_type": "execute_result",
          "data": {
            "text/plain": [
              "array([[0., 0., 0., 1., 0.],\n",
              "       [0., 0., 1., 0., 0.],\n",
              "       [0., 0., 1., 0., 0.],\n",
              "       ...,\n",
              "       [0., 0., 0., 0., 1.],\n",
              "       [0., 1., 0., 0., 0.],\n",
              "       [0., 1., 0., 0., 0.]])"
            ]
          },
          "metadata": {},
          "execution_count": 105
        }
      ],
      "source": [
        "# One-Hot encoded labels\n",
        "from sklearn.preprocessing import OneHotEncoder\n",
        "\n",
        "one_hot_encoder = OneHotEncoder(sparse=False)\n",
        "train_labels_one_hot = one_hot_encoder.fit_transform(train_df[\"target\"].to_numpy().reshape(-1, 1))\n",
        "val_labels_one_hot = one_hot_encoder.transform(val_df[\"target\"].to_numpy().reshape(-1, 1))\n",
        "test_labels_one_hot = one_hot_encoder.transform(test_df[\"target\"].to_numpy().reshape(-1, 1))\n",
        "\n",
        "train_labels_one_hot"
      ]
    },
    {
      "cell_type": "code",
      "execution_count": 106,
      "id": "e81071f2-4294-4302-8c0a-5da0d1221c9b",
      "metadata": {
        "colab": {
          "base_uri": "https://localhost:8080/"
        },
        "id": "e81071f2-4294-4302-8c0a-5da0d1221c9b",
        "outputId": "2ef4c8ad-e6f5-4ee2-9e26-d38abd4d354a"
      },
      "outputs": [
        {
          "output_type": "execute_result",
          "data": {
            "text/plain": [
              "array([3, 2, 2, ..., 4, 1, 1])"
            ]
          },
          "metadata": {},
          "execution_count": 106
        }
      ],
      "source": [
        "# Integer encoded labels\n",
        "from sklearn.preprocessing import LabelEncoder\n",
        "\n",
        "label_encoder = LabelEncoder()\n",
        "train_labels_encoded = label_encoder.fit_transform(train_df[\"target\"].to_numpy())\n",
        "val_labels_encoded = label_encoder.fit_transform(val_df[\"target\"].to_numpy())\n",
        "test_labels_encoded = label_encoder.fit_transform(test_df[\"target\"].to_numpy())\n",
        "\n",
        "train_labels_encoded"
      ]
    },
    {
      "cell_type": "code",
      "execution_count": 107,
      "id": "29559fea-71dd-4af9-83b2-1a396d6cdcba",
      "metadata": {
        "colab": {
          "base_uri": "https://localhost:8080/"
        },
        "id": "29559fea-71dd-4af9-83b2-1a396d6cdcba",
        "outputId": "e1699df0-9e9e-4323-c7df-f389e84b7686"
      },
      "outputs": [
        {
          "output_type": "execute_result",
          "data": {
            "text/plain": [
              "(5, array(['BACKGROUND', 'CONCLUSIONS', 'METHODS', 'OBJECTIVE', 'RESULTS'],\n",
              "       dtype=object))"
            ]
          },
          "metadata": {},
          "execution_count": 107
        }
      ],
      "source": [
        "num_classes = len(label_encoder.classes_)\n",
        "class_names = label_encoder.classes_\n",
        "num_classes, class_names"
      ]
    },
    {
      "cell_type": "markdown",
      "id": "4cdda6bd-ad82-4409-b951-93bc3eca487c",
      "metadata": {
        "id": "4cdda6bd-ad82-4409-b951-93bc3eca487c"
      },
      "source": [
        "## Modelling"
      ]
    },
    {
      "cell_type": "markdown",
      "id": "aad0cbf0-36f0-422c-aba7-cb30dfc01214",
      "metadata": {
        "id": "aad0cbf0-36f0-422c-aba7-cb30dfc01214"
      },
      "source": [
        "### Model 0: Naive Bayes (Baseline model)"
      ]
    },
    {
      "cell_type": "markdown",
      "id": "6acafb72-7e13-47db-95fb-e19c7fc3c525",
      "metadata": {
        "id": "6acafb72-7e13-47db-95fb-e19c7fc3c525"
      },
      "source": [
        "#### Fitting the model"
      ]
    },
    {
      "cell_type": "code",
      "execution_count": 108,
      "id": "5aad7431-c749-4709-ba46-889cfbd27eda",
      "metadata": {
        "colab": {
          "base_uri": "https://localhost:8080/"
        },
        "id": "5aad7431-c749-4709-ba46-889cfbd27eda",
        "outputId": "037b5321-028c-4b72-90d1-49d951ad3f81"
      },
      "outputs": [
        {
          "output_type": "execute_result",
          "data": {
            "text/plain": [
              "Pipeline(steps=[('tf-idf', TfidfVectorizer()), ('clf', MultinomialNB())])"
            ]
          },
          "metadata": {},
          "execution_count": 108
        }
      ],
      "source": [
        "from sklearn.feature_extraction.text import TfidfVectorizer\n",
        "from sklearn.naive_bayes import MultinomialNB\n",
        "from sklearn.pipeline import Pipeline\n",
        "\n",
        "model_0 = Pipeline([\n",
        "    (\"tf-idf\", TfidfVectorizer()),\n",
        "    (\"clf\", MultinomialNB())\n",
        "])\n",
        "\n",
        "model_0.fit(X=train_sentences,\n",
        "                      y=train_labels_encoded)"
      ]
    },
    {
      "cell_type": "code",
      "execution_count": 109,
      "id": "6fc39050-71d3-4132-937d-542395d76f68",
      "metadata": {
        "colab": {
          "base_uri": "https://localhost:8080/"
        },
        "id": "6fc39050-71d3-4132-937d-542395d76f68",
        "outputId": "f721343a-9349-4dfb-b78a-952f26afeb59"
      },
      "outputs": [
        {
          "output_type": "execute_result",
          "data": {
            "text/plain": [
              "0.7218323844829869"
            ]
          },
          "metadata": {},
          "execution_count": 109
        }
      ],
      "source": [
        "model_0.score(X=val_sentences,\n",
        "                        y=val_labels_encoded)"
      ]
    },
    {
      "cell_type": "code",
      "execution_count": 110,
      "id": "d219b7fa-6594-4837-aa40-bf5c12dfb636",
      "metadata": {
        "colab": {
          "base_uri": "https://localhost:8080/"
        },
        "id": "d219b7fa-6594-4837-aa40-bf5c12dfb636",
        "outputId": "f7176771-49cd-4ee6-b17b-f4fc0c6485c3"
      },
      "outputs": [
        {
          "output_type": "execute_result",
          "data": {
            "text/plain": [
              "array([4, 1, 3, ..., 4, 4, 1])"
            ]
          },
          "metadata": {},
          "execution_count": 110
        }
      ],
      "source": [
        "model_0_preds = model_0.predict(val_sentences)\n",
        "model_0_preds"
      ]
    },
    {
      "cell_type": "code",
      "execution_count": 111,
      "id": "615609bd-ba1f-4f9e-89cb-c06c597ebccf",
      "metadata": {
        "id": "615609bd-ba1f-4f9e-89cb-c06c597ebccf"
      },
      "outputs": [],
      "source": [
        "from sklearn.metrics import accuracy_score, precision_recall_fscore_support\n",
        "\n",
        "def calculate_results(y_true, y_pred):\n",
        "    \"\"\"\n",
        "    Calculates model accuracy, precision, recall and f1 score of a binary classification model.\n",
        "    Args:\n",
        "      y_true: true labels in the form of a 1D array\n",
        "      y_pred: predicted labels in the form of a 1D array\n",
        "    Returns a dictionary of accuracy, precision, recall, f1-score.\n",
        "    \"\"\"\n",
        "\n",
        "    model_accuracy = accuracy_score(y_true, y_pred) * 100\n",
        "\n",
        "    model_precision, model_recall, model_f1, _ = precision_recall_fscore_support(y_true, y_pred, average=\"weighted\")\n",
        "    model_results = {\"accuracy\": model_accuracy,\n",
        "                     \"precision\": model_precision,\n",
        "                     \"recall\": model_recall,\n",
        "                     \"f1\": model_f1}\n",
        "    return model_results"
      ]
    },
    {
      "cell_type": "code",
      "execution_count": 112,
      "id": "f6f19169-c61b-4f5a-afec-f573ee73a628",
      "metadata": {
        "colab": {
          "base_uri": "https://localhost:8080/"
        },
        "id": "f6f19169-c61b-4f5a-afec-f573ee73a628",
        "outputId": "ec9cfd44-af62-4991-c7fe-b0cf1f76fe3b"
      },
      "outputs": [
        {
          "output_type": "execute_result",
          "data": {
            "text/plain": [
              "{'accuracy': 72.1832384482987,\n",
              " 'precision': 0.7186466952323352,\n",
              " 'recall': 0.7218323844829869,\n",
              " 'f1': 0.6989250353450294}"
            ]
          },
          "metadata": {},
          "execution_count": 112
        }
      ],
      "source": [
        "model_0_results = calculate_results(val_labels_encoded,\n",
        "                                        model_0_preds)\n",
        "model_0_results"
      ]
    },
    {
      "cell_type": "markdown",
      "id": "7ee75938-75f8-40b3-a09a-949aac7a59fa",
      "metadata": {
        "id": "7ee75938-75f8-40b3-a09a-949aac7a59fa"
      },
      "source": [
        "### Preparing data for deep sequence models"
      ]
    },
    {
      "cell_type": "code",
      "execution_count": 113,
      "id": "0dfab48b-0614-4d4a-965d-549c1e6c8310",
      "metadata": {
        "id": "0dfab48b-0614-4d4a-965d-549c1e6c8310"
      },
      "outputs": [],
      "source": [
        "import numpy as np\n",
        "from tensorflow.keras import layers\n",
        "import matplotlib.pyplot as plt"
      ]
    },
    {
      "cell_type": "code",
      "execution_count": 114,
      "id": "11fdc8e7-047f-4c06-84b6-43a448bcc41c",
      "metadata": {
        "colab": {
          "base_uri": "https://localhost:8080/"
        },
        "id": "11fdc8e7-047f-4c06-84b6-43a448bcc41c",
        "outputId": "08b3d93e-926f-4456-9065-0586d2f2c1b2"
      },
      "outputs": [
        {
          "output_type": "execute_result",
          "data": {
            "text/plain": [
              "26.338269273494777"
            ]
          },
          "metadata": {},
          "execution_count": 114
        }
      ],
      "source": [
        "# average length of sentences\n",
        "len_sent = [len(sentence.split()) for sentence in train_sentences]\n",
        "avg_len_sent = np.average(len_sent)\n",
        "avg_len_sent"
      ]
    },
    {
      "cell_type": "code",
      "execution_count": 115,
      "id": "8a2143e0-867e-4660-9f24-3d85af2e5fd9",
      "metadata": {
        "colab": {
          "base_uri": "https://localhost:8080/",
          "height": 265
        },
        "id": "8a2143e0-867e-4660-9f24-3d85af2e5fd9",
        "outputId": "51144672-6739-4df4-9d0a-73299d7a913a"
      },
      "outputs": [
        {
          "output_type": "display_data",
          "data": {
            "text/plain": [
              "<Figure size 432x288 with 1 Axes>"
            ],
            "image/png": "[encoded data removed]"
          },
          "metadata": {
            "needs_background": "light"
          }
        }
      ],
      "source": [
        "plt.hist(len_sent);"
      ]
    },
    {
      "cell_type": "code",
      "execution_count": 116,
      "id": "68fe2235-cbb4-471a-9554-4f03937613fc",
      "metadata": {
        "colab": {
          "base_uri": "https://localhost:8080/"
        },
        "id": "68fe2235-cbb4-471a-9554-4f03937613fc",
        "outputId": "a4d38684-3989-482e-d96b-824c17833773"
      },
      "outputs": [
        {
          "output_type": "execute_result",
          "data": {
            "text/plain": [
              "55"
            ]
          },
          "metadata": {},
          "execution_count": 116
        }
      ],
      "source": [
        "# finding a length which can cover 95% of sentences\n",
        "output_seq_len = int(np.percentile(len_sent, 95))\n",
        "output_seq_len"
      ]
    },
    {
      "cell_type": "markdown",
      "id": "d0603011-33da-4aa0-93d8-002493e6b84b",
      "metadata": {
        "id": "d0603011-33da-4aa0-93d8-002493e6b84b"
      },
      "source": [
        "#### Creating token embedding"
      ]
    },
    {
      "cell_type": "code",
      "execution_count": 117,
      "id": "34b1a283-3639-4614-9b54-16c1387edf10",
      "metadata": {
        "id": "34b1a283-3639-4614-9b54-16c1387edf10"
      },
      "outputs": [],
      "source": [
        "from tensorflow.keras.layers.experimental.preprocessing import TextVectorization\n",
        "\n",
        "# Vocabulary size\n",
        "max_tokens = 68000\n",
        "\n",
        "text_vectorizer = TextVectorization(max_tokens=max_tokens,\n",
        "                                    output_sequence_length=output_seq_len)"
      ]
    },
    {
      "cell_type": "code",
      "execution_count": 118,
      "id": "3dfdb0c4-9f6d-42af-9c39-a1fca4220cb4",
      "metadata": {
        "id": "3dfdb0c4-9f6d-42af-9c39-a1fca4220cb4"
      },
      "outputs": [],
      "source": [
        "text_vectorizer.adapt(train_sentences)"
      ]
    },
    {
      "cell_type": "code",
      "execution_count": 119,
      "id": "9d07aa02-5803-4903-85e7-073613131003",
      "metadata": {
        "colab": {
          "base_uri": "https://localhost:8080/"
        },
        "id": "9d07aa02-5803-4903-85e7-073613131003",
        "outputId": "39f5cbf7-d0cf-40cf-d5ed-dc6671fb8358"
      },
      "outputs": [
        {
          "output_type": "stream",
          "name": "stdout",
          "text": [
            "Before text vectoriztion: \n",
            "we prospectively enrolled patients undergoing laparoscopic colorectal surgery aged over @ years between @ and @ .\n",
            "\n",
            "Length of text: 17\n",
            "\n",
            "After text vectorization: \n",
            "[  43 1125  230   12  295  723 1264  115  307  145   64   30    3    0\n",
            "    0    0    0    0    0    0    0    0    0    0    0    0    0    0\n",
            "    0    0    0    0    0    0    0    0    0    0    0    0    0    0\n",
            "    0    0    0    0    0    0    0    0    0    0    0    0    0]\n"
          ]
        }
      ],
      "source": [
        "# testing our text vectorizer\n",
        "import random \n",
        "\n",
        "target_sentence = random.choice(train_sentences)\n",
        "print(f\"Before text vectoriztion: \\n{target_sentence}\\n\")\n",
        "print(f\"Length of text: {len(target_sentence.split())}\\n\")\n",
        "print(f\"After text vectorization: \\n{text_vectorizer(target_sentence)}\")"
      ]
    },
    {
      "cell_type": "code",
      "execution_count": 120,
      "id": "e98cf829-64c6-4386-9c0f-c3224dfd55bb",
      "metadata": {
        "colab": {
          "base_uri": "https://localhost:8080/"
        },
        "id": "e98cf829-64c6-4386-9c0f-c3224dfd55bb",
        "outputId": "a9a8284b-e398-43a3-835d-5171a73b10a9"
      },
      "outputs": [
        {
          "output_type": "stream",
          "name": "stdout",
          "text": [
            "Number of words in vocabulary: 64841\n",
            "Most common words in the vocabulary: ['', '[UNK]', 'the', 'and', 'of']\n",
            "Least common words in the vocabulary: ['aainduced', 'aaigroup', 'aachener', 'aachen', 'aaacp']\n"
          ]
        }
      ],
      "source": [
        "rct_20k_text_vocab = text_vectorizer.get_vocabulary()\n",
        "print(f\"Number of words in vocabulary: {len(rct_20k_text_vocab)}\"), \n",
        "print(f\"Most common words in the vocabulary: {rct_20k_text_vocab[:5]}\")\n",
        "print(f\"Least common words in the vocabulary: {rct_20k_text_vocab[-5:]}\")"
      ]
    },
    {
      "cell_type": "code",
      "execution_count": 121,
      "id": "22f6a85a-d3d0-4c3b-99e6-6e4fd81ec018",
      "metadata": {
        "colab": {
          "base_uri": "https://localhost:8080/"
        },
        "id": "22f6a85a-d3d0-4c3b-99e6-6e4fd81ec018",
        "outputId": "c353d8f7-94de-4579-f482-af266b628bf4"
      },
      "outputs": [
        {
          "output_type": "stream",
          "name": "stdout",
          "text": [
            "Sentence before vectorization:\n",
            "we prospectively enrolled patients undergoing laparoscopic colorectal surgery aged over @ years between @ and @ .\n",
            "\n",
            "Sentence after vectorization (before embedding):\n",
            "[[  43 1125  230   12  295  723 1264  115  307  145   64   30    3    0\n",
            "     0    0    0    0    0    0    0    0    0    0    0    0    0    0\n",
            "     0    0    0    0    0    0    0    0    0    0    0    0    0    0\n",
            "     0    0    0    0    0    0    0    0    0    0    0    0    0]]\n",
            "\n",
            "Sentence after embedding:\n",
            "[[[-0.00293273 -0.04063113  0.00456661 ... -0.03583372 -0.01516559\n",
            "    0.02397574]\n",
            "  [-0.0469651   0.03108766 -0.00502664 ... -0.03910945 -0.01582655\n",
            "    0.02776888]\n",
            "  [-0.04361832 -0.02771562 -0.00011815 ...  0.02411637 -0.04417061\n",
            "    0.00313269]\n",
            "  ...\n",
            "  [-0.04398667 -0.03792719 -0.04496811 ... -0.00175982  0.00180334\n",
            "   -0.02935374]\n",
            "  [-0.04398667 -0.03792719 -0.04496811 ... -0.00175982  0.00180334\n",
            "   -0.02935374]\n",
            "  [-0.04398667 -0.03792719 -0.04496811 ... -0.00175982  0.00180334\n",
            "   -0.02935374]]]\n",
            "\n",
            "Embedded sentence shape: (1, 55, 128)\n"
          ]
        }
      ],
      "source": [
        "# Creating token embedding layer\n",
        "token_embed = layers.Embedding(input_dim=len(rct_20k_text_vocab),\n",
        "                               output_dim=128,\n",
        "                               mask_zero=True,\n",
        "                               name=\"token_embedding\")\n",
        "\n",
        "print(f\"Sentence before vectorization:\\n{target_sentence}\\n\")\n",
        "vectorized_sentence = text_vectorizer([target_sentence])\n",
        "print(f\"Sentence after vectorization (before embedding):\\n{vectorized_sentence}\\n\")\n",
        "embedded_sentence = token_embed(vectorized_sentence)\n",
        "print(f\"Sentence after embedding:\\n{embedded_sentence}\\n\")\n",
        "print(f\"Embedded sentence shape: {embedded_sentence.shape}\")"
      ]
    },
    {
      "cell_type": "code",
      "execution_count": 122,
      "id": "387a59a2-90bb-41a7-817f-ffc6939a0b67",
      "metadata": {
        "colab": {
          "base_uri": "https://localhost:8080/"
        },
        "id": "387a59a2-90bb-41a7-817f-ffc6939a0b67",
        "outputId": "6b8602e1-5f33-43ef-ce04-57beed36dc25"
      },
      "outputs": [
        {
          "output_type": "execute_result",
          "data": {
            "text/plain": [
              "<PrefetchDataset element_spec=(TensorSpec(shape=(None,), dtype=tf.string, name=None), TensorSpec(shape=(None, 5), dtype=tf.float64, name=None))>"
            ]
          },
          "metadata": {},
          "execution_count": 122
        }
      ],
      "source": [
        "# turning the data into tensorflow datasets\n",
        "train_dataset = tf.data.Dataset.from_tensor_slices((train_sentences, train_labels_one_hot))\n",
        "train_dataset = train_dataset.batch(32).prefetch(tf.data.AUTOTUNE)\n",
        "\n",
        "val_dataset = tf.data.Dataset.from_tensor_slices((val_sentences, val_labels_one_hot))\n",
        "val_dataset = val_dataset.batch(32).prefetch(tf.data.AUTOTUNE)\n",
        "\n",
        "train_dataset"
      ]
    },
    {
      "cell_type": "markdown",
      "id": "2ac7faea-742f-417f-ae96-f7e5c86af0a6",
      "metadata": {
        "id": "2ac7faea-742f-417f-ae96-f7e5c86af0a6"
      },
      "source": [
        "### Creating Callbacks"
      ]
    },
    {
      "cell_type": "code",
      "execution_count": 123,
      "id": "afd2cac3-67fe-4643-814c-303bfd198a7c",
      "metadata": {
        "id": "afd2cac3-67fe-4643-814c-303bfd198a7c"
      },
      "outputs": [],
      "source": [
        "tensorboard_dir = \"drive/MyDrive/SkimLit/training_logs\"\n",
        "checkpoint_dir = \"drive/MyDrive/SkimLit/checkpoints\"\n",
        "os.makedirs(tensorboard_dir)\n",
        "os.makedirs(checkpoint_dir)"
      ]
    },
    {
      "cell_type": "code",
      "execution_count": 124,
      "id": "3b4eb076-d55a-4d75-aa67-496d68bc5f09",
      "metadata": {
        "id": "3b4eb076-d55a-4d75-aa67-496d68bc5f09"
      },
      "outputs": [],
      "source": [
        "import datetime\n",
        "\n",
        "def tensorboard_callback(experiment_name):\n",
        "    \"\"\"\n",
        "    Creates a TensorBoard callback instance to store log files.\n",
        "    \n",
        "    Stores log files with the filepath:\n",
        "        \"dir_name/experiment_name/current_datetime/\"\n",
        "    \"\"\"\n",
        "    log_dir = \"drive/MyDrive/SkimLit/training_logs/\" + experiment_name \n",
        "    os.makedirs(log_dir)\n",
        "    log_dir += \"/\" + datetime.datetime.now().strftime(\"%Y-%m-%d--%H-%M-%S\")\n",
        "    tensorboard_callback = tf.keras.callbacks.TensorBoard(log_dir)\n",
        "    \n",
        "    return tensorboard_callback\n",
        "\n",
        "def checkpoint_callback(dir_name):\n",
        "    checkpoint_path = \"drive/MyDrive/SkimLit/checkpoints/\"+ dir_name +\"/\"\n",
        "    os.makedirs(checkpoint_path)\n",
        "    model_checkpoint = tf.keras.callbacks.ModelCheckpoint(checkpoint_path,\n",
        "                                                          monitor=\"val_accuracy\",\n",
        "                                                          save_weights_only=True,\n",
        "                                                          save_best_only=True)\n",
        "    return model_checkpoint\n",
        "\n",
        "early_stopping = tf.keras.callbacks.EarlyStopping(monitor=\"val_loss\", \n",
        "                                                  patience=3)\n",
        "\n",
        "reduce_lr = tf.keras.callbacks.ReduceLROnPlateau(monitor=\"val_loss\",\n",
        "                                                 factor=0.1,\n",
        "                                                 patience=2,\n",
        "                                                 verbose=1,\n",
        "                                                 min_lr=1e-7)"
      ]
    },
    {
      "cell_type": "markdown",
      "id": "8e24a4a6-3ab1-40d7-b7d4-35a4d2d0a905",
      "metadata": {
        "id": "8e24a4a6-3ab1-40d7-b7d4-35a4d2d0a905"
      },
      "source": [
        "### Model 1: Conv1D with token embeddings"
      ]
    },
    {
      "cell_type": "markdown",
      "id": "233a88d4-e71c-4104-8011-6bf76fb91269",
      "metadata": {
        "id": "233a88d4-e71c-4104-8011-6bf76fb91269"
      },
      "source": [
        "#### Constructing the model"
      ]
    },
    {
      "cell_type": "code",
      "execution_count": 125,
      "id": "ad2b6bd5-3d4c-4895-9a99-1b7dae722fcf",
      "metadata": {
        "id": "ad2b6bd5-3d4c-4895-9a99-1b7dae722fcf"
      },
      "outputs": [],
      "source": [
        "inputs = layers.Input(shape=(1,), dtype=tf.string)\n",
        "text_vectors = text_vectorizer(inputs)\n",
        "token_embeddings = token_embed(text_vectors)\n",
        "x = layers.Conv1D(64, kernel_size=5, padding=\"same\", activation=\"relu\")(token_embeddings)\n",
        "x = layers.GlobalMaxPooling1D()(x)\n",
        "outputs = layers.Dense(num_classes, activation=\"softmax\")(x)\n",
        "model_1 = tf.keras.Model(inputs, outputs)\n",
        "\n",
        "model_1.compile(loss=\"categorical_crossentropy\",\n",
        "                optimizer=tf.keras.optimizers.Adam(learning_rate=0.0001),\n",
        "                metrics=[\"accuracy\"])"
      ]
    },
    {
      "cell_type": "code",
      "execution_count": 126,
      "id": "554d6590-89a1-45e9-9b04-43c74adedd03",
      "metadata": {
        "id": "554d6590-89a1-45e9-9b04-43c74adedd03",
        "outputId": "3246a0ad-1c91-4061-d2c0-487b50f15707",
        "colab": {
          "base_uri": "https://localhost:8080/"
        }
      },
      "outputs": [
        {
          "output_type": "stream",
          "name": "stdout",
          "text": [
            "Model: \"model_4\"\n",
            "_________________________________________________________________\n",
            " Layer (type)                Output Shape              Param #   \n",
            "=================================================================\n",
            " input_5 (InputLayer)        [(None, 1)]               0         \n",
            "                                                                 \n",
            " text_vectorization_2 (TextV  (None, 55)               0         \n",
            " ectorization)                                                   \n",
            "                                                                 \n",
            " token_embedding (Embedding)  (None, 55, 128)          8299648   \n",
            "                                                                 \n",
            " conv1d_4 (Conv1D)           (None, 55, 64)            41024     \n",
            "                                                                 \n",
            " global_max_pooling1d_3 (Glo  (None, 64)               0         \n",
            " balMaxPooling1D)                                                \n",
            "                                                                 \n",
            " dense_4 (Dense)             (None, 5)                 325       \n",
            "                                                                 \n",
            "=================================================================\n",
            "Total params: 8,340,997\n",
            "Trainable params: 8,340,997\n",
            "Non-trainable params: 0\n",
            "_________________________________________________________________\n"
          ]
        }
      ],
      "source": [
        "model_1.summary()"
      ]
    },
    {
      "cell_type": "markdown",
      "id": "eaa63b9e-6a64-4fec-8001-6804be1bfdc5",
      "metadata": {
        "id": "eaa63b9e-6a64-4fec-8001-6804be1bfdc5"
      },
      "source": [
        "#### Fitting the model"
      ]
    },
    {
      "cell_type": "code",
      "execution_count": 127,
      "id": "3b91889b-381d-492a-bf76-9aaf99ba6bb8",
      "metadata": {
        "id": "3b91889b-381d-492a-bf76-9aaf99ba6bb8",
        "colab": {
          "base_uri": "https://localhost:8080/"
        },
        "outputId": "506451c9-9f31-4e5b-bc99-e1007b3933b0"
      },
      "outputs": [
        {
          "output_type": "stream",
          "name": "stdout",
          "text": [
            "Epoch 1/20\n",
            "5627/5627 [==============================] - 48s 8ms/step - loss: 0.7945 - accuracy: 0.7089 - val_loss: 0.5469 - val_accuracy: 0.7992 - lr: 1.0000e-04\n",
            "Epoch 2/20\n",
            "5627/5627 [==============================] - 46s 8ms/step - loss: 0.5105 - accuracy: 0.8160 - val_loss: 0.4916 - val_accuracy: 0.8165 - lr: 1.0000e-04\n",
            "Epoch 3/20\n",
            "5627/5627 [==============================] - 45s 8ms/step - loss: 0.4482 - accuracy: 0.8400 - val_loss: 0.4727 - val_accuracy: 0.8224 - lr: 1.0000e-04\n",
            "Epoch 4/20\n",
            "5627/5627 [==============================] - 45s 8ms/step - loss: 0.4045 - accuracy: 0.8565 - val_loss: 0.4649 - val_accuracy: 0.8251 - lr: 1.0000e-04\n",
            "Epoch 5/20\n",
            "5627/5627 [==============================] - 45s 8ms/step - loss: 0.3670 - accuracy: 0.8709 - val_loss: 0.4636 - val_accuracy: 0.8277 - lr: 1.0000e-04\n",
            "Epoch 6/20\n",
            "5627/5627 [==============================] - 47s 8ms/step - loss: 0.3321 - accuracy: 0.8852 - val_loss: 0.4665 - val_accuracy: 0.8279 - lr: 1.0000e-04\n",
            "Epoch 7/20\n",
            "5627/5627 [==============================] - ETA: 0s - loss: 0.2985 - accuracy: 0.9001\n",
            "Epoch 7: ReduceLROnPlateau reducing learning rate to 9.999999747378752e-06.\n",
            "5627/5627 [==============================] - 51s 9ms/step - loss: 0.2985 - accuracy: 0.9001 - val_loss: 0.4731 - val_accuracy: 0.8271 - lr: 1.0000e-04\n",
            "Epoch 8/20\n",
            "5627/5627 [==============================] - 47s 8ms/step - loss: 0.2593 - accuracy: 0.9177 - val_loss: 0.4725 - val_accuracy: 0.8272 - lr: 1.0000e-05\n"
          ]
        }
      ],
      "source": [
        "model_1_history = model_1.fit(train_dataset,\n",
        "                              epochs=20,\n",
        "                              steps_per_epoch=len(train_dataset),\n",
        "                              validation_data=val_dataset,\n",
        "                              validation_steps=int(0.5 * len(val_dataset)),\n",
        "                              callbacks=[tensorboard_callback(\"Conv1D_token_embed\"),\n",
        "                                         checkpoint_callback(\"Conv1D_token_embed\"),\n",
        "                                         early_stopping,\n",
        "                                         reduce_lr])"
      ]
    },
    {
      "cell_type": "code",
      "execution_count": 128,
      "id": "229718c5-bf23-4c0a-83f8-2fd87a2eb9f6",
      "metadata": {
        "id": "229718c5-bf23-4c0a-83f8-2fd87a2eb9f6",
        "colab": {
          "base_uri": "https://localhost:8080/"
        },
        "outputId": "44f5cf63-1a2f-4753-f6d1-aa7920403c29"
      },
      "outputs": [
        {
          "output_type": "stream",
          "name": "stdout",
          "text": [
            "945/945 [==============================] - 3s 3ms/step - loss: 0.4849 - accuracy: 0.8252\n"
          ]
        },
        {
          "output_type": "execute_result",
          "data": {
            "text/plain": [
              "[0.48487183451652527, 0.825168788433075]"
            ]
          },
          "metadata": {},
          "execution_count": 128
        }
      ],
      "source": [
        "model_1.evaluate(val_dataset)"
      ]
    },
    {
      "cell_type": "code",
      "execution_count": 129,
      "id": "366a8569-ebe1-4e12-af1c-c195fe2a3acb",
      "metadata": {
        "id": "366a8569-ebe1-4e12-af1c-c195fe2a3acb",
        "colab": {
          "base_uri": "https://localhost:8080/"
        },
        "outputId": "3e340c72-4c74-423b-abd2-04720d92796c"
      },
      "outputs": [
        {
          "output_type": "stream",
          "name": "stdout",
          "text": [
            "945/945 [==============================] - 2s 2ms/step\n"
          ]
        },
        {
          "output_type": "execute_result",
          "data": {
            "text/plain": [
              "<tf.Tensor: shape=(30212,), dtype=int64, numpy=array([0, 0, 3, ..., 4, 1, 1])>"
            ]
          },
          "metadata": {},
          "execution_count": 129
        }
      ],
      "source": [
        "model_1_preds = tf.argmax(model_1.predict(val_dataset), axis=1)\n",
        "model_1_preds"
      ]
    },
    {
      "cell_type": "code",
      "execution_count": 130,
      "id": "3dbe6293-7087-471f-9709-946d9e7089a7",
      "metadata": {
        "id": "3dbe6293-7087-471f-9709-946d9e7089a7",
        "colab": {
          "base_uri": "https://localhost:8080/"
        },
        "outputId": "91124119-0de6-4cfc-b346-4b9eeeb985f5"
      },
      "outputs": [
        {
          "output_type": "execute_result",
          "data": {
            "text/plain": [
              "{'accuracy': 82.5168807096518,\n",
              " 'precision': 0.8247619426213408,\n",
              " 'recall': 0.825168807096518,\n",
              " 'f1': 0.8234236163470768}"
            ]
          },
          "metadata": {},
          "execution_count": 130
        }
      ],
      "source": [
        "model_1_results = calculate_results(y_true=val_labels_encoded,\n",
        "                                    y_pred=model_1_preds)\n",
        "model_1_results"
      ]
    },
    {
      "cell_type": "code",
      "execution_count": 131,
      "id": "ffb379dc-6ceb-43aa-a6c3-a432123cf020",
      "metadata": {
        "colab": {
          "base_uri": "https://localhost:8080/"
        },
        "id": "ffb379dc-6ceb-43aa-a6c3-a432123cf020",
        "outputId": "05766a88-c9a1-45b2-9c3e-9842f063c15e"
      },
      "outputs": [
        {
          "output_type": "stream",
          "name": "stdout",
          "text": [
            "--2023-01-16 20:31:39--  https://raw.githubusercontent.com/mrdbourke/tensorflow-deep-learning/main/extras/helper_functions.py\n",
            "Resolving raw.githubusercontent.com (raw.githubusercontent.com)... 185.199.108.133, 185.199.111.133, 185.199.109.133, ...\n",
            "Connecting to raw.githubusercontent.com (raw.githubusercontent.com)|185.199.108.133|:443... connected.\n",
            "HTTP request sent, awaiting response... 200 OK\n",
            "Length: 10246 (10K) [text/plain]\n",
            "Saving to: ‘helper_functions.py.2’\n",
            "\n",
            "helper_functions.py 100%[===================>]  10.01K  --.-KB/s    in 0s      \n",
            "\n",
            "2023-01-16 20:31:39 (103 MB/s) - ‘helper_functions.py.2’ saved [10246/10246]\n",
            "\n"
          ]
        }
      ],
      "source": [
        "!wget https://raw.githubusercontent.com/mrdbourke/tensorflow-deep-learning/main/extras/helper_functions.py"
      ]
    },
    {
      "cell_type": "code",
      "execution_count": 132,
      "id": "81dbb502-c542-4954-b0f0-eb240edb3499",
      "metadata": {
        "colab": {
          "base_uri": "https://localhost:8080/",
          "height": 573
        },
        "id": "81dbb502-c542-4954-b0f0-eb240edb3499",
        "outputId": "e08adf0b-dc7c-4989-be3a-36275e355e18"
      },
      "outputs": [
        {
          "output_type": "display_data",
          "data": {
            "text/plain": [
              "<Figure size 432x288 with 1 Axes>"
            ],
            "image/png": "[encoded data removed]"
          },
          "metadata": {
            "needs_background": "light"
          }
        },
        {
          "output_type": "display_data",
          "data": {
            "text/plain": [
              "<Figure size 432x288 with 1 Axes>"
            ],
            "image/png": "[encoded data removed]"
          },
          "metadata": {
            "needs_background": "light"
          }
        }
      ],
      "source": [
        "from helper_functions import plot_loss_curves\n",
        "\n",
        "plot_loss_curves(model_1_history)"
      ]
    },
    {
      "cell_type": "code",
      "execution_count": 133,
      "id": "32f815c0-1f69-49c0-ba5c-c019146af0ec",
      "metadata": {
        "colab": {
          "base_uri": "https://localhost:8080/"
        },
        "id": "32f815c0-1f69-49c0-ba5c-c019146af0ec",
        "outputId": "b079d9b9-035c-41a3-cf80-ce0e17717621"
      },
      "outputs": [
        {
          "output_type": "stream",
          "name": "stderr",
          "text": [
            "WARNING:absl:Found untraced functions such as _jit_compiled_convolution_op while saving (showing 1 of 1). These functions will not be directly callable after loading.\n"
          ]
        }
      ],
      "source": [
        "save_dir = \"drive/MyDrive/SkimLit/saved_models/Conv1D_token_embed\"\n",
        "os.makedirs(save_dir)\n",
        "\n",
        "model_1.save(save_dir)"
      ]
    },
    {
      "cell_type": "markdown",
      "id": "cb1fbdc5-ff9e-4829-9694-e86cb03aea00",
      "metadata": {
        "id": "cb1fbdc5-ff9e-4829-9694-e86cb03aea00"
      },
      "source": [
        "### Model 2: Combination of pretrained token embeddings + character embeddings "
      ]
    },
    {
      "cell_type": "markdown",
      "id": "45594cd1-7441-4862-9df6-0082df6c16de",
      "metadata": {
        "id": "45594cd1-7441-4862-9df6-0082df6c16de"
      },
      "source": [
        "#### Creating pretrained token embedding "
      ]
    },
    {
      "cell_type": "code",
      "execution_count": 134,
      "id": "c84b7edc-e367-48fe-9350-6be9678ee67a",
      "metadata": {
        "id": "c84b7edc-e367-48fe-9350-6be9678ee67a"
      },
      "outputs": [],
      "source": [
        "import tensorflow_hub as hub\n",
        "\n",
        "tf_hub_embedding_layer = hub.KerasLayer(\"https://tfhub.dev/google/universal-sentence-encoder/4\",\n",
        "                                        trainable=False,\n",
        "                                        name=\"universal_sentence_encoder\")"
      ]
    },
    {
      "cell_type": "code",
      "execution_count": 135,
      "id": "c32e91ce-f403-4d79-af7f-2cb207f3d13f",
      "metadata": {
        "colab": {
          "base_uri": "https://localhost:8080/"
        },
        "id": "c32e91ce-f403-4d79-af7f-2cb207f3d13f",
        "outputId": "e1229135-fe35-4ac7-80a6-b13834f18cc8"
      },
      "outputs": [
        {
          "output_type": "stream",
          "name": "stdout",
          "text": [
            "Random training sentence:\n",
            "concern in terms of quality and feelings of well-being after @ and @ months , was observed significant difference compared with before using .\n",
            "\n",
            "Sentence after embedding:\n",
            "[ 0.00827744 -0.04200996 -0.04626331 -0.05978069 -0.01466626  0.03201189\n",
            "  0.03532061 -0.02845569  0.03415912  0.06369494  0.01474843  0.07971609\n",
            " -0.06964759  0.00052215  0.03766633  0.02400964 -0.07492597 -0.00324929\n",
            "  0.01146897  0.01322796  0.06372016  0.06402435  0.01476215  0.03816341\n",
            " -0.02659592  0.03671021  0.00066402  0.05702707 -0.03601167 -0.02339731] (truncated output)...\n",
            "\n",
            "Length of sentence embedding:\n",
            "512\n"
          ]
        }
      ],
      "source": [
        "# Testing out the embedding on a random sentence\n",
        "random_training_sentence = random.choice(train_sentences)\n",
        "print(f\"Random training sentence:\\n{random_training_sentence}\\n\")\n",
        "use_embedded_sentence = tf_hub_embedding_layer([random_training_sentence])\n",
        "print(f\"Sentence after embedding:\\n{use_embedded_sentence[0][:30]} (truncated output)...\\n\")\n",
        "print(f\"Length of sentence embedding:\\n{len(use_embedded_sentence[0])}\")"
      ]
    },
    {
      "cell_type": "markdown",
      "id": "9d25cf61-c4e6-481e-bfd8-7ad34902d2b9",
      "metadata": {
        "id": "9d25cf61-c4e6-481e-bfd8-7ad34902d2b9"
      },
      "source": [
        "#### Creating character level tokenizer"
      ]
    },
    {
      "cell_type": "code",
      "execution_count": 136,
      "id": "50fb53bb-f4f3-4bca-84c3-fec98b814e94",
      "metadata": {
        "colab": {
          "base_uri": "https://localhost:8080/",
          "height": 54
        },
        "id": "50fb53bb-f4f3-4bca-84c3-fec98b814e94",
        "outputId": "8ceba42d-056f-4763-c2ca-1b858af22806"
      },
      "outputs": [
        {
          "output_type": "execute_result",
          "data": {
            "text/plain": [
              "'c o n c e r n   i n   t e r m s   o f   q u a l i t y   a n d   f e e l i n g s   o f   w e l l - b e i n g   a f t e r   @   a n d   @   m o n t h s   ,   w a s   o b s e r v e d   s i g n i f i c a n t   d i f f e r e n c e   c o m p a r e d   w i t h   b e f o r e   u s i n g   .'"
            ],
            "application/vnd.google.colaboratory.intrinsic+json": {
              "type": "string"
            }
          },
          "metadata": {},
          "execution_count": 136
        }
      ],
      "source": [
        "# function to split sentences into characters\n",
        "def split_chars(text):\n",
        "    return \" \".join(list(text))\n",
        "\n",
        "split_chars(random_training_sentence)"
      ]
    },
    {
      "cell_type": "code",
      "execution_count": 200,
      "id": "dd47458c-c981-465b-9bbb-c1c3f98d11d6",
      "metadata": {
        "colab": {
          "base_uri": "https://localhost:8080/"
        },
        "id": "dd47458c-c981-465b-9bbb-c1c3f98d11d6",
        "outputId": "01794e96-cb9f-4331-eeca-5015952d5a68"
      },
      "outputs": [
        {
          "output_type": "stream",
          "name": "stdout",
          "text": [
            "t o   i n v e s t i g a t e   t h e   e f f i c a c y   o f   @   w e e k s   o f   d a i l y   l o w - d o s e   o r a l   p r e d n i s o l o n e   i n   i m p r o v i n g   p a i n   ,   m o b i l i t y   ,   a n d   s y s t e m i c   l o w - g r a d e   i n f l a m m a t i o n   i n   t h e   s h o r t   t e r m   a n d   w h e t h e r   t h e   e f f e c t   w o u l d   b e   s u s t a i n e d   a t   @   w e e k s   i n   o l d e r   a d u l t s   w i t h   m o d e r a t e   t o   s e v e r e   k n e e   o s t e o a r t h r i t i s   (   o a   )   .\n"
          ]
        }
      ],
      "source": [
        "train_chars = [split_chars(sentence) for sentence in train_sentences]\n",
        "val_chars = [split_chars(sentence) for sentence in val_sentences]\n",
        "test_chars = [split_chars(sentence) for sentence in test_sentences]\n",
        "\n",
        "print(train_chars[0])"
      ]
    },
    {
      "cell_type": "code",
      "execution_count": 138,
      "id": "ce946809-31c5-435a-ba37-74718aa69489",
      "metadata": {
        "id": "ce946809-31c5-435a-ba37-74718aa69489"
      },
      "outputs": [],
      "source": [
        "# Combining word and character data into tensorflow dataset\n",
        "train_word_char_data = tf.data.Dataset.from_tensor_slices((train_sentences, train_chars))\n",
        "train_word_char_labels = tf.data.Dataset.from_tensor_slices(train_labels_one_hot)\n",
        "train_word_char_dataset = tf.data.Dataset.zip((train_word_char_data, train_word_char_labels))\n",
        "train_word_char_dataset = train_word_char_dataset.batch(32).prefetch(tf.data.AUTOTUNE) \n",
        "\n",
        "val_word_char_data = tf.data.Dataset.from_tensor_slices((val_sentences, val_chars))\n",
        "val_word_char_labels = tf.data.Dataset.from_tensor_slices(val_labels_one_hot)\n",
        "val_word_char_dataset = tf.data.Dataset.zip((val_word_char_data, val_word_char_labels))\n",
        "val_word_char_dataset = val_word_char_dataset.batch(32).prefetch(tf.data.AUTOTUNE)"
      ]
    },
    {
      "cell_type": "code",
      "execution_count": 139,
      "id": "795c5369-1a40-479f-aa20-27ed3c841629",
      "metadata": {
        "colab": {
          "base_uri": "https://localhost:8080/"
        },
        "id": "795c5369-1a40-479f-aa20-27ed3c841629",
        "outputId": "923d5f97-dd08-44f6-9b19-0e93cb728788"
      },
      "outputs": [
        {
          "output_type": "execute_result",
          "data": {
            "text/plain": [
              "(<PrefetchDataset element_spec=((TensorSpec(shape=(None,), dtype=tf.string, name=None), TensorSpec(shape=(None,), dtype=tf.string, name=None)), TensorSpec(shape=(None, 5), dtype=tf.float64, name=None))>,\n",
              " <PrefetchDataset element_spec=((TensorSpec(shape=(None,), dtype=tf.string, name=None), TensorSpec(shape=(None,), dtype=tf.string, name=None)), TensorSpec(shape=(None, 5), dtype=tf.float64, name=None))>)"
            ]
          },
          "metadata": {},
          "execution_count": 139
        }
      ],
      "source": [
        "train_word_char_dataset, val_word_char_dataset"
      ]
    },
    {
      "cell_type": "code",
      "execution_count": 140,
      "id": "e12f5dfc-3391-4341-9a3d-fafd8d9a8fb4",
      "metadata": {
        "colab": {
          "base_uri": "https://localhost:8080/"
        },
        "id": "e12f5dfc-3391-4341-9a3d-fafd8d9a8fb4",
        "outputId": "7cc3063d-f179-4b84-f06f-4d922db591ad"
      },
      "outputs": [
        {
          "output_type": "execute_result",
          "data": {
            "text/plain": [
              "149.3662574983337"
            ]
          },
          "metadata": {},
          "execution_count": 140
        }
      ],
      "source": [
        "char_lens = [len(sentence) for sentence in train_sentences]\n",
        "avg_char_len = np.average(char_lens)\n",
        "avg_char_len"
      ]
    },
    {
      "cell_type": "code",
      "execution_count": 141,
      "id": "d967e753-7bf7-4e97-ad56-9b35f0810667",
      "metadata": {
        "colab": {
          "base_uri": "https://localhost:8080/",
          "height": 265
        },
        "id": "d967e753-7bf7-4e97-ad56-9b35f0810667",
        "outputId": "a1990bfd-d1f4-41de-db6d-985d726bdd88"
      },
      "outputs": [
        {
          "output_type": "display_data",
          "data": {
            "text/plain": [
              "<Figure size 432x288 with 1 Axes>"
            ],
            "image/png": "[encoded data removed]"
          },
          "metadata": {
            "needs_background": "light"
          }
        }
      ],
      "source": [
        "plt.hist(char_lens);"
      ]
    },
    {
      "cell_type": "code",
      "execution_count": 142,
      "id": "ac95b246-339c-4b73-9f1d-16cb55a9a318",
      "metadata": {
        "colab": {
          "base_uri": "https://localhost:8080/"
        },
        "id": "ac95b246-339c-4b73-9f1d-16cb55a9a318",
        "outputId": "278cfbd0-ed85-4750-c6ae-9b6d7839b83c"
      },
      "outputs": [
        {
          "output_type": "execute_result",
          "data": {
            "text/plain": [
              "290"
            ]
          },
          "metadata": {},
          "execution_count": 142
        }
      ],
      "source": [
        "output_char_seq_len = int(np.percentile(char_lens, 95))\n",
        "output_char_seq_len"
      ]
    },
    {
      "cell_type": "code",
      "execution_count": 143,
      "id": "6da22a03-fc3a-4afa-a973-9b9405aed18d",
      "metadata": {
        "colab": {
          "base_uri": "https://localhost:8080/",
          "height": 36
        },
        "id": "6da22a03-fc3a-4afa-a973-9b9405aed18d",
        "outputId": "5413184e-93e5-491e-88a2-ba889d4cf6a8"
      },
      "outputs": [
        {
          "output_type": "execute_result",
          "data": {
            "text/plain": [
              "'abcdefghijklmnopqrstuvwxyz0123456789!\"#$%&\\'()*+,-./:;<=>?@[\\\\]^_`{|}~'"
            ],
            "application/vnd.google.colaboratory.intrinsic+json": {
              "type": "string"
            }
          },
          "metadata": {},
          "execution_count": 143
        }
      ],
      "source": [
        "# Get all keyboard characters for char-level embedding\n",
        "import string\n",
        "char_tokens = string.ascii_lowercase + string.digits + string.punctuation\n",
        "char_tokens"
      ]
    },
    {
      "cell_type": "code",
      "execution_count": 144,
      "id": "3c95e4d7-ecbd-499b-8e96-4fe78efc2928",
      "metadata": {
        "id": "3c95e4d7-ecbd-499b-8e96-4fe78efc2928"
      },
      "outputs": [],
      "source": [
        "NUM_CHAR_TOKENS = len(char_tokens) + 2 # num characters in char_tokens + space + UNK token\n",
        "\n",
        "char_vectorizer = TextVectorization(max_tokens=NUM_CHAR_TOKENS,\n",
        "                                    output_sequence_length=output_char_seq_len,\n",
        "                                    standardize=\"lower_and_strip_punctuation\",\n",
        "                                    name=\"char_vectorizer\")\n",
        "\n",
        "char_vectorizer.adapt(train_chars)"
      ]
    },
    {
      "cell_type": "code",
      "execution_count": 145,
      "id": "1344de51-625d-4402-a850-0d1c4bc29c3c",
      "metadata": {
        "colab": {
          "base_uri": "https://localhost:8080/"
        },
        "id": "1344de51-625d-4402-a850-0d1c4bc29c3c",
        "outputId": "bd848590-e144-4801-f337-de44843cc8b9"
      },
      "outputs": [
        {
          "output_type": "stream",
          "name": "stdout",
          "text": [
            "Number of different characters in character vocab: 28\n",
            "5 most common characters: ['', '[UNK]', 'e', 't', 'i']\n",
            "5 least common characters: ['k', 'x', 'z', 'q', 'j']\n"
          ]
        }
      ],
      "source": [
        "char_vocab = char_vectorizer.get_vocabulary()\n",
        "print(f\"Number of different characters in character vocab: {len(char_vocab)}\")\n",
        "print(f\"5 most common characters: {char_vocab[:5]}\")\n",
        "print(f\"5 least common characters: {char_vocab[-5:]}\")"
      ]
    },
    {
      "cell_type": "code",
      "execution_count": 146,
      "id": "8c602d8e-c417-4215-9daf-edee9ffbb880",
      "metadata": {
        "colab": {
          "base_uri": "https://localhost:8080/"
        },
        "id": "8c602d8e-c417-4215-9daf-edee9ffbb880",
        "outputId": "e10fa249-a6f1-4526-efdf-3c0dbcbda341"
      },
      "outputs": [
        {
          "output_type": "stream",
          "name": "stdout",
          "text": [
            "Charified text:\n",
            "t h e   n g   p a t c h   i s   a   m o r e   e f f e c t i v e   m e t h o d   f o r   p r e t e r m   l a b o r   c o n t r o l   t h a n   n i f e d i p i n e   w i t h   r e g a r d   t o   m i n i m a l   s i d e   e f f e c t s   .\n",
            "\n",
            "Length of chars: 99\n",
            "\n",
            "Vectorized chars:\n",
            "[[ 3 13  2  6 18 14  5  3 11 13  4  9  5 15  7  8  2  2 17 17  2 11  3  4\n",
            "  21  2 15  2  3 13  7 10 17  7  8 14  8  2  3  2  8 15 12  5 22  7  8 11\n",
            "   7  6  3  8  7 12  3 13  5  6  6  4 17  2 10  4 14  4  6  2 20  4  3 13\n",
            "   8  2 18  5  8 10  3  7 15  4  6  4 15  5 12  9  4 10  2  2 17 17  2 11\n",
            "   3  9  0  0  0  0  0  0  0  0  0  0  0  0  0  0  0  0  0  0  0  0  0  0\n",
            "   0  0  0  0  0  0  0  0  0  0  0  0  0  0  0  0  0  0  0  0  0  0  0  0\n",
            "   0  0  0  0  0  0  0  0  0  0  0  0  0  0  0  0  0  0  0  0  0  0  0  0\n",
            "   0  0  0  0  0  0  0  0  0  0  0  0  0  0  0  0  0  0  0  0  0  0  0  0\n",
            "   0  0  0  0  0  0  0  0  0  0  0  0  0  0  0  0  0  0  0  0  0  0  0  0\n",
            "   0  0  0  0  0  0  0  0  0  0  0  0  0  0  0  0  0  0  0  0  0  0  0  0\n",
            "   0  0  0  0  0  0  0  0  0  0  0  0  0  0  0  0  0  0  0  0  0  0  0  0\n",
            "   0  0  0  0  0  0  0  0  0  0  0  0  0  0  0  0  0  0  0  0  0  0  0  0\n",
            "   0  0]]\n",
            "\n",
            "Length of vectorized chars: 290\n"
          ]
        }
      ],
      "source": [
        "random_train_chars = random.choice(train_chars)\n",
        "print(f\"Charified text:\\n{random_train_chars}\")\n",
        "print(f\"\\nLength of chars: {len(random_train_chars.split())}\")\n",
        "vectorized_chars = char_vectorizer([random_train_chars])\n",
        "print(f\"\\nVectorized chars:\\n{vectorized_chars}\")\n",
        "print(f\"\\nLength of vectorized chars: {len(vectorized_chars[0])}\")"
      ]
    },
    {
      "cell_type": "markdown",
      "id": "9aef5077-4d78-4b39-beea-b69d14270d76",
      "metadata": {
        "id": "9aef5077-4d78-4b39-beea-b69d14270d76"
      },
      "source": [
        "#### Creating character-level embedding"
      ]
    },
    {
      "cell_type": "code",
      "execution_count": 147,
      "id": "773ae859-7e03-4fea-8d4e-8ee3d6a78761",
      "metadata": {
        "colab": {
          "base_uri": "https://localhost:8080/"
        },
        "id": "773ae859-7e03-4fea-8d4e-8ee3d6a78761",
        "outputId": "a8aea15d-f054-4338-c9e3-5b768da747df"
      },
      "outputs": [
        {
          "output_type": "stream",
          "name": "stdout",
          "text": [
            "Charified text (before vectorization and embedding):\n",
            "t h e   n g   p a t c h   i s   a   m o r e   e f f e c t i v e   m e t h o d   f o r   p r e t e r m   l a b o r   c o n t r o l   t h a n   n i f e d i p i n e   w i t h   r e g a r d   t o   m i n i m a l   s i d e   e f f e c t s   .\n",
            "\n",
            "Embedded chars (after vectorization and embedding):\n",
            "[[[-0.02399691  0.03040781 -0.04595509 ... -0.01349342 -0.03175901\n",
            "    0.04634906]\n",
            "  [-0.04321984 -0.01083423 -0.04314941 ...  0.01917939 -0.01036701\n",
            "   -0.00069605]\n",
            "  [ 0.03367067  0.03859825  0.04297921 ... -0.03869845  0.00168444\n",
            "    0.00822886]\n",
            "  ...\n",
            "  [-0.00512228  0.02097002  0.04510066 ... -0.03222541 -0.03286052\n",
            "   -0.04736063]\n",
            "  [-0.00512228  0.02097002  0.04510066 ... -0.03222541 -0.03286052\n",
            "   -0.04736063]\n",
            "  [-0.00512228  0.02097002  0.04510066 ... -0.03222541 -0.03286052\n",
            "   -0.04736063]]]\n",
            "\n",
            "Character embedding shape: (1, 290, 25)\n"
          ]
        }
      ],
      "source": [
        "char_embed = layers.Embedding(input_dim=len(char_vocab),\n",
        "                              output_dim=25,\n",
        "                              name=\"char_embed\")\n",
        "\n",
        "print(f\"Charified text (before vectorization and embedding):\\n{random_train_chars}\\n\")\n",
        "char_embed_example = char_embed(char_vectorizer([random_train_chars]))\n",
        "print(f\"Embedded chars (after vectorization and embedding):\\n{char_embed_example}\\n\")\n",
        "print(f\"Character embedding shape: {char_embed_example.shape}\")"
      ]
    },
    {
      "cell_type": "markdown",
      "id": "4aee514d-b9c9-4db4-81de-889aa638f6c3",
      "metadata": {
        "id": "4aee514d-b9c9-4db4-81de-889aa638f6c3"
      },
      "source": [
        "#### Constructing the model"
      ]
    },
    {
      "cell_type": "code",
      "execution_count": 148,
      "id": "309f9f4e-5efd-48fd-9fe3-2d129fc24bb7",
      "metadata": {
        "id": "309f9f4e-5efd-48fd-9fe3-2d129fc24bb7"
      },
      "outputs": [],
      "source": [
        "# Setup word inputs\n",
        "word_inputs = layers.Input(shape=[], dtype=tf.string, name=\"word_input\")\n",
        "word_embeddings = tf_hub_embedding_layer(word_inputs)\n",
        "word_output = layers.Dense(128, activation=\"relu\")(word_embeddings)\n",
        "word_model = tf.keras.Model(inputs=word_inputs, \n",
        "                            outputs=word_output)\n",
        "\n",
        "# Setup char inputs\n",
        "char_inputs = layers.Input(shape=(1,), dtype=tf.string, name=\"char_input\")\n",
        "char_vectors = char_vectorizer(char_inputs)\n",
        "char_embeddings = char_embed(char_vectors)\n",
        "char_bi_lstm = layers.Bidirectional(layers.LSTM(25))(char_embeddings)\n",
        "char_model = tf.keras.Model(inputs=char_inputs,\n",
        "                            outputs=char_bi_lstm)\n",
        "\n",
        "# Concatenate word and char inputs\n",
        "word_char_concat = layers.Concatenate(name=\"word_char_concat\")([word_model.output,\n",
        "                                                                char_model.output])\n",
        "\n",
        "# Dropout and output layers\n",
        "combined_dropout = layers.Dropout(0.5)(word_char_concat)\n",
        "combined_dense = layers.Dense(200, activation=\"relu\")(combined_dropout)\n",
        "final_dropout = layers.Dropout(0.5)(combined_dense)\n",
        "output_layer = layers.Dense(num_classes, activation=\"softmax\")(final_dropout)\n",
        "\n",
        "model_2 = tf.keras.Model(inputs=[word_model.input, char_model.input],\n",
        "                         outputs=output_layer,\n",
        "                         name=\"model_2_word_and_char_embedding\")"
      ]
    },
    {
      "cell_type": "code",
      "execution_count": 149,
      "id": "cf2988a2-5a55-46bf-930c-a0eeba79d717",
      "metadata": {
        "colab": {
          "base_uri": "https://localhost:8080/"
        },
        "id": "cf2988a2-5a55-46bf-930c-a0eeba79d717",
        "outputId": "b847d07e-cfc0-4470-c20c-90cde03a19c0"
      },
      "outputs": [
        {
          "output_type": "stream",
          "name": "stdout",
          "text": [
            "Model: \"model_2_word_and_char_embedding\"\n",
            "__________________________________________________________________________________________________\n",
            " Layer (type)                   Output Shape         Param #     Connected to                     \n",
            "==================================================================================================\n",
            " char_input (InputLayer)        [(None, 1)]          0           []                               \n",
            "                                                                                                  \n",
            " word_input (InputLayer)        [(None,)]            0           []                               \n",
            "                                                                                                  \n",
            " char_vectorizer (TextVectoriza  (None, 290)         0           ['char_input[0][0]']             \n",
            " tion)                                                                                            \n",
            "                                                                                                  \n",
            " universal_sentence_encoder (Ke  (None, 512)         256797824   ['word_input[0][0]']             \n",
            " rasLayer)                                                                                        \n",
            "                                                                                                  \n",
            " char_embed (Embedding)         (None, 290, 25)      700         ['char_vectorizer[0][0]']        \n",
            "                                                                                                  \n",
            " dense_5 (Dense)                (None, 128)          65664       ['universal_sentence_encoder[0][0\n",
            "                                                                 ]']                              \n",
            "                                                                                                  \n",
            " bidirectional (Bidirectional)  (None, 50)           10200       ['char_embed[0][0]']             \n",
            "                                                                                                  \n",
            " word_char_concat (Concatenate)  (None, 178)         0           ['dense_5[0][0]',                \n",
            "                                                                  'bidirectional[0][0]']          \n",
            "                                                                                                  \n",
            " dropout (Dropout)              (None, 178)          0           ['word_char_concat[0][0]']       \n",
            "                                                                                                  \n",
            " dense_6 (Dense)                (None, 200)          35800       ['dropout[0][0]']                \n",
            "                                                                                                  \n",
            " dropout_1 (Dropout)            (None, 200)          0           ['dense_6[0][0]']                \n",
            "                                                                                                  \n",
            " dense_7 (Dense)                (None, 5)            1005        ['dropout_1[0][0]']              \n",
            "                                                                                                  \n",
            "==================================================================================================\n",
            "Total params: 256,911,193\n",
            "Trainable params: 113,369\n",
            "Non-trainable params: 256,797,824\n",
            "__________________________________________________________________________________________________\n"
          ]
        }
      ],
      "source": [
        "model_2.summary()"
      ]
    },
    {
      "cell_type": "code",
      "execution_count": 150,
      "id": "747c7ed1-5fd0-458d-a95b-a938695dce91",
      "metadata": {
        "colab": {
          "base_uri": "https://localhost:8080/",
          "height": 856
        },
        "id": "747c7ed1-5fd0-458d-a95b-a938695dce91",
        "outputId": "11214fc3-271d-4175-dadc-6deb8b34ce58"
      },
      "outputs": [
        {
          "output_type": "execute_result",
          "data": {
            "image/png": "[encoded data removed]",
            "text/plain": [
              "<IPython.core.display.Image object>"
            ]
          },
          "metadata": {},
          "execution_count": 150
        }
      ],
      "source": [
        "from tensorflow.keras.utils import plot_model\n",
        "plot_model(model_2)"
      ]
    },
    {
      "cell_type": "code",
      "execution_count": 151,
      "id": "1f1b2862-a82f-4e8e-a7a2-fdd08c1c713a",
      "metadata": {
        "id": "1f1b2862-a82f-4e8e-a7a2-fdd08c1c713a"
      },
      "outputs": [],
      "source": [
        "model_2.compile(loss=\"categorical_crossentropy\",\n",
        "                optimizer=tf.keras.optimizers.Adam(),\n",
        "                metrics=[\"accuracy\"])"
      ]
    },
    {
      "cell_type": "markdown",
      "id": "14b48a3d-a3cd-419b-a9fe-8596be1e3097",
      "metadata": {
        "id": "14b48a3d-a3cd-419b-a9fe-8596be1e3097"
      },
      "source": [
        "#### Fitting the model"
      ]
    },
    {
      "cell_type": "code",
      "execution_count": 152,
      "id": "443ac1e5-f7ef-42aa-8df5-3f2c9c87c6b5",
      "metadata": {
        "colab": {
          "base_uri": "https://localhost:8080/"
        },
        "id": "443ac1e5-f7ef-42aa-8df5-3f2c9c87c6b5",
        "outputId": "12c4c3eb-afd6-4356-85ed-3084f68aaf2a"
      },
      "outputs": [
        {
          "output_type": "stream",
          "name": "stdout",
          "text": [
            "Epoch 1/20\n",
            "5627/5627 [==============================] - 209s 36ms/step - loss: 0.7601 - accuracy: 0.7083 - val_loss: 0.6332 - val_accuracy: 0.7580 - lr: 0.0010\n",
            "Epoch 2/20\n",
            "5627/5627 [==============================] - 202s 36ms/step - loss: 0.6819 - accuracy: 0.7417 - val_loss: 0.6059 - val_accuracy: 0.7686 - lr: 0.0010\n",
            "Epoch 3/20\n",
            "5627/5627 [==============================] - 201s 36ms/step - loss: 0.6598 - accuracy: 0.7497 - val_loss: 0.5909 - val_accuracy: 0.7768 - lr: 0.0010\n",
            "Epoch 4/20\n",
            "5627/5627 [==============================] - 210s 37ms/step - loss: 0.6428 - accuracy: 0.7581 - val_loss: 0.5818 - val_accuracy: 0.7761 - lr: 0.0010\n",
            "Epoch 5/20\n",
            "5627/5627 [==============================] - 194s 35ms/step - loss: 0.6312 - accuracy: 0.7618 - val_loss: 0.5791 - val_accuracy: 0.7803 - lr: 0.0010\n",
            "Epoch 6/20\n",
            "5627/5627 [==============================] - 194s 35ms/step - loss: 0.6234 - accuracy: 0.7650 - val_loss: 0.5652 - val_accuracy: 0.7840 - lr: 0.0010\n",
            "Epoch 7/20\n",
            "5627/5627 [==============================] - 185s 33ms/step - loss: 0.6146 - accuracy: 0.7675 - val_loss: 0.5623 - val_accuracy: 0.7835 - lr: 0.0010\n",
            "Epoch 8/20\n",
            "5627/5627 [==============================] - 186s 33ms/step - loss: 0.6062 - accuracy: 0.7723 - val_loss: 0.5551 - val_accuracy: 0.7864 - lr: 0.0010\n",
            "Epoch 9/20\n",
            "5627/5627 [==============================] - 192s 34ms/step - loss: 0.6041 - accuracy: 0.7728 - val_loss: 0.5504 - val_accuracy: 0.7907 - lr: 0.0010\n",
            "Epoch 10/20\n",
            "5627/5627 [==============================] - 190s 34ms/step - loss: 0.5956 - accuracy: 0.7756 - val_loss: 0.5482 - val_accuracy: 0.7912 - lr: 0.0010\n",
            "Epoch 11/20\n",
            "5627/5627 [==============================] - 189s 34ms/step - loss: 0.5920 - accuracy: 0.7778 - val_loss: 0.5466 - val_accuracy: 0.7912 - lr: 0.0010\n",
            "Epoch 12/20\n",
            "5627/5627 [==============================] - 188s 33ms/step - loss: 0.5907 - accuracy: 0.7769 - val_loss: 0.5405 - val_accuracy: 0.7947 - lr: 0.0010\n",
            "Epoch 13/20\n",
            "5627/5627 [==============================] - 185s 33ms/step - loss: 0.5826 - accuracy: 0.7811 - val_loss: 0.5396 - val_accuracy: 0.7945 - lr: 0.0010\n",
            "Epoch 14/20\n",
            "5627/5627 [==============================] - 190s 34ms/step - loss: 0.5792 - accuracy: 0.7822 - val_loss: 0.5342 - val_accuracy: 0.7971 - lr: 0.0010\n",
            "Epoch 15/20\n",
            "5627/5627 [==============================] - 191s 34ms/step - loss: 0.5754 - accuracy: 0.7838 - val_loss: 0.5315 - val_accuracy: 0.7985 - lr: 0.0010\n",
            "Epoch 16/20\n",
            "5627/5627 [==============================] - 185s 33ms/step - loss: 0.5719 - accuracy: 0.7852 - val_loss: 0.5306 - val_accuracy: 0.7961 - lr: 0.0010\n",
            "Epoch 17/20\n",
            "5627/5627 [==============================] - 186s 33ms/step - loss: 0.5696 - accuracy: 0.7866 - val_loss: 0.5312 - val_accuracy: 0.7991 - lr: 0.0010\n",
            "Epoch 18/20\n",
            "5627/5627 [==============================] - 187s 33ms/step - loss: 0.5654 - accuracy: 0.7878 - val_loss: 0.5296 - val_accuracy: 0.7993 - lr: 0.0010\n",
            "Epoch 19/20\n",
            "5627/5627 [==============================] - 187s 33ms/step - loss: 0.5622 - accuracy: 0.7899 - val_loss: 0.5264 - val_accuracy: 0.8004 - lr: 0.0010\n",
            "Epoch 20/20\n",
            "5627/5627 [==============================] - 188s 33ms/step - loss: 0.5578 - accuracy: 0.7909 - val_loss: 0.5269 - val_accuracy: 0.8005 - lr: 0.0010\n"
          ]
        }
      ],
      "source": [
        "model_2_history = model_2.fit(train_word_char_dataset,\n",
        "                              steps_per_epoch=len(train_word_char_dataset),\n",
        "                              epochs=20,\n",
        "                              validation_data=val_word_char_dataset,\n",
        "                              validation_steps=int(0.5 * len(val_word_char_dataset)),\n",
        "                              callbacks=[tensorboard_callback(\"char_pretrained_word_embedding\"),\n",
        "                                         checkpoint_callback(\"char_pretrained_word_embedding\"),\n",
        "                                         early_stopping,\n",
        "                                         reduce_lr])"
      ]
    },
    {
      "cell_type": "code",
      "source": [
        "model_2.load_weights(\"drive/MyDrive/SkimLit/checkpoints/char_pretrained_word_embedding/\")"
      ],
      "metadata": {
        "colab": {
          "base_uri": "https://localhost:8080/"
        },
        "id": "UNcqmK4u3HKE",
        "outputId": "b023b613-92c5-49cd-8b44-5658ae467649"
      },
      "id": "UNcqmK4u3HKE",
      "execution_count": 153,
      "outputs": [
        {
          "output_type": "execute_result",
          "data": {
            "text/plain": [
              "<tensorflow.python.training.tracking.util.CheckpointLoadStatus at 0x7f5af6577be0>"
            ]
          },
          "metadata": {},
          "execution_count": 153
        }
      ]
    },
    {
      "cell_type": "code",
      "execution_count": 154,
      "id": "3b665bd8-61f9-473a-8454-ba687c3c984a",
      "metadata": {
        "colab": {
          "base_uri": "https://localhost:8080/"
        },
        "id": "3b665bd8-61f9-473a-8454-ba687c3c984a",
        "outputId": "81026c6f-70f0-4b82-8c1a-81e86ac6bbc3"
      },
      "outputs": [
        {
          "output_type": "stream",
          "name": "stdout",
          "text": [
            "945/945 [==============================] - 21s 22ms/step - loss: 0.5343 - accuracy: 0.8003\n"
          ]
        },
        {
          "output_type": "execute_result",
          "data": {
            "text/plain": [
              "[0.5343296527862549, 0.8003111481666565]"
            ]
          },
          "metadata": {},
          "execution_count": 154
        }
      ],
      "source": [
        "model_2.evaluate(val_word_char_dataset)"
      ]
    },
    {
      "cell_type": "code",
      "execution_count": 155,
      "id": "160XyOngszto",
      "metadata": {
        "colab": {
          "base_uri": "https://localhost:8080/"
        },
        "id": "160XyOngszto",
        "outputId": "1ea27c7b-60ca-4b78-f484-7fa73c682313"
      },
      "outputs": [
        {
          "output_type": "stream",
          "name": "stdout",
          "text": [
            "945/945 [==============================] - 21s 21ms/step\n"
          ]
        },
        {
          "output_type": "execute_result",
          "data": {
            "text/plain": [
              "<tf.Tensor: shape=(30212,), dtype=int64, numpy=array([0, 0, 0, ..., 4, 4, 1])>"
            ]
          },
          "metadata": {},
          "execution_count": 155
        }
      ],
      "source": [
        "model_2_preds = tf.argmax(model_2.predict(val_word_char_dataset), axis=1)\n",
        "model_2_preds"
      ]
    },
    {
      "cell_type": "code",
      "execution_count": 156,
      "id": "8JbL0kNQs4RH",
      "metadata": {
        "colab": {
          "base_uri": "https://localhost:8080/"
        },
        "id": "8JbL0kNQs4RH",
        "outputId": "c586a14f-4efd-4c50-c9c3-d16967608a2d"
      },
      "outputs": [
        {
          "output_type": "execute_result",
          "data": {
            "text/plain": [
              "{'accuracy': 80.0311134648484,\n",
              " 'precision': 0.8006926556596292,\n",
              " 'recall': 0.800311134648484,\n",
              " 'f1': 0.7965291608073933}"
            ]
          },
          "metadata": {},
          "execution_count": 156
        }
      ],
      "source": [
        "model_2_results = calculate_results(y_true=val_labels_encoded,\n",
        "                                    y_pred=model_2_preds)\n",
        "model_2_results"
      ]
    },
    {
      "cell_type": "code",
      "source": [
        "from helper_functions import plot_loss_curves\n",
        "\n",
        "plot_loss_curves(model_2_history)"
      ],
      "metadata": {
        "colab": {
          "base_uri": "https://localhost:8080/",
          "height": 573
        },
        "id": "RnhFnZ67M9oq",
        "outputId": "425893b3-6a65-43f3-c272-e77dc9e28076"
      },
      "id": "RnhFnZ67M9oq",
      "execution_count": 157,
      "outputs": [
        {
          "output_type": "display_data",
          "data": {
            "text/plain": [
              "<Figure size 432x288 with 1 Axes>"
            ],
            "image/png": "[encoded data removed]"
          },
          "metadata": {
            "needs_background": "light"
          }
        },
        {
          "output_type": "display_data",
          "data": {
            "text/plain": [
              "<Figure size 432x288 with 1 Axes>"
            ],
            "image/png": "[encoded data removed]"
          },
          "metadata": {
            "needs_background": "light"
          }
        }
      ]
    },
    {
      "cell_type": "code",
      "execution_count": 158,
      "id": "y05Jvi_ytCdn",
      "metadata": {
        "id": "y05Jvi_ytCdn",
        "colab": {
          "base_uri": "https://localhost:8080/"
        },
        "outputId": "9a1ceb43-1579-4c5e-c76a-4c2a866243bc"
      },
      "outputs": [
        {
          "output_type": "stream",
          "name": "stderr",
          "text": [
            "WARNING:absl:Found untraced functions such as lstm_cell_1_layer_call_fn, lstm_cell_1_layer_call_and_return_conditional_losses, lstm_cell_2_layer_call_fn, lstm_cell_2_layer_call_and_return_conditional_losses while saving (showing 4 of 4). These functions will not be directly callable after loading.\n"
          ]
        }
      ],
      "source": [
        "save_dir = \"drive/MyDrive/SkimLit/saved_models/char_pretrained_word_embedding\"\n",
        "os.makedirs(save_dir)\n",
        "\n",
        "model_2.save(save_dir)"
      ]
    },
    {
      "cell_type": "markdown",
      "id": "d7001724-111e-44e8-ad00-25f18f826bf0",
      "metadata": {
        "id": "d7001724-111e-44e8-ad00-25f18f826bf0"
      },
      "source": [
        "### Model 3: Combination of pretrained token embeddings, character embeddings and positional embeddings"
      ]
    },
    {
      "cell_type": "markdown",
      "id": "b56af465-0864-4b4c-9048-fd3767ee47c9",
      "metadata": {
        "id": "b56af465-0864-4b4c-9048-fd3767ee47c9"
      },
      "source": [
        "#### Creating positional embeddings"
      ]
    },
    {
      "cell_type": "code",
      "execution_count": 159,
      "id": "97ff4f6b-f628-4cf7-a67f-5fb97f4ce785",
      "metadata": {
        "colab": {
          "base_uri": "https://localhost:8080/",
          "height": 206
        },
        "id": "97ff4f6b-f628-4cf7-a67f-5fb97f4ce785",
        "outputId": "5927c1ed-a878-44f5-b2e9-9e3640858ee4"
      },
      "outputs": [
        {
          "output_type": "execute_result",
          "data": {
            "text/plain": [
              "      target                                               text  line_number  \\\n",
              "0  OBJECTIVE  to investigate the efficacy of @ weeks of dail...            0   \n",
              "1    METHODS  a total of @ patients with primary knee oa wer...            1   \n",
              "2    METHODS  outcome measures included pain reduction and i...            2   \n",
              "3    METHODS  pain was assessed using the visual analog pain...            3   \n",
              "4    METHODS  secondary outcome measures included the wester...            4   \n",
              "\n",
              "   total_lines  \n",
              "0           11  \n",
              "1           11  \n",
              "2           11  \n",
              "3           11  \n",
              "4           11  "
            ],
            "text/html": [
              "\n",
              "  <div id=\"df-e9a1d258-b382-4a60-a827-fc0078c97db3\">\n",
              "    <div class=\"colab-df-container\">\n",
              "      <div>\n",
              "<style scoped>\n",
              "    .dataframe tbody tr th:only-of-type {\n",
              "        vertical-align: middle;\n",
              "    }\n",
              "\n",
              "    .dataframe tbody tr th {\n",
              "        vertical-align: top;\n",
              "    }\n",
              "\n",
              "    .dataframe thead th {\n",
              "        text-align: right;\n",
              "    }\n",
              "</style>\n",
              "<table border=\"1\" class=\"dataframe\">\n",
              "  <thead>\n",
              "    <tr style=\"text-align: right;\">\n",
              "      <th></th>\n",
              "      <th>target</th>\n",
              "      <th>text</th>\n",
              "      <th>line_number</th>\n",
              "      <th>total_lines</th>\n",
              "    </tr>\n",
              "  </thead>\n",
              "  <tbody>\n",
              "    <tr>\n",
              "      <th>0</th>\n",
              "      <td>OBJECTIVE</td>\n",
              "      <td>to investigate the efficacy of @ weeks of dail...</td>\n",
              "      <td>0</td>\n",
              "      <td>11</td>\n",
              "    </tr>\n",
              "    <tr>\n",
              "      <th>1</th>\n",
              "      <td>METHODS</td>\n",
              "      <td>a total of @ patients with primary knee oa wer...</td>\n",
              "      <td>1</td>\n",
              "      <td>11</td>\n",
              "    </tr>\n",
              "    <tr>\n",
              "      <th>2</th>\n",
              "      <td>METHODS</td>\n",
              "      <td>outcome measures included pain reduction and i...</td>\n",
              "      <td>2</td>\n",
              "      <td>11</td>\n",
              "    </tr>\n",
              "    <tr>\n",
              "      <th>3</th>\n",
              "      <td>METHODS</td>\n",
              "      <td>pain was assessed using the visual analog pain...</td>\n",
              "      <td>3</td>\n",
              "      <td>11</td>\n",
              "    </tr>\n",
              "    <tr>\n",
              "      <th>4</th>\n",
              "      <td>METHODS</td>\n",
              "      <td>secondary outcome measures included the wester...</td>\n",
              "      <td>4</td>\n",
              "      <td>11</td>\n",
              "    </tr>\n",
              "  </tbody>\n",
              "</table>\n",
              "</div>\n",
              "      <button class=\"colab-df-convert\" onclick=\"convertToInteractive('df-e9a1d258-b382-4a60-a827-fc0078c97db3')\"\n",
              "              title=\"Convert this dataframe to an interactive table.\"\n",
              "              style=\"display:none;\">\n",
              "        \n",
              "  <svg xmlns=\"http://www.w3.org/2000/svg\" height=\"24px\"viewBox=\"0 0 24 24\"\n",
              "       width=\"24px\">\n",
              "    <path d=\"M0 0h24v24H0V0z\" fill=\"none\"/>\n",
              "    <path d=\"M18.56 5.44l.94 2.06.94-2.06 2.06-.94-2.06-.94-.94-2.06-.94 2.06-2.06.94zm-11 1L8.5 8.5l.94-2.06 2.06-.94-2.06-.94L8.5 2.5l-.94 2.06-2.06.94zm10 10l.94 2.06.94-2.06 2.06-.94-2.06-.94-.94-2.06-.94 2.06-2.06.94z\"/><path d=\"M17.41 7.96l-1.37-1.37c-.4-.4-.92-.59-1.43-.59-.52 0-1.04.2-1.43.59L10.3 9.45l-7.72 7.72c-.78.78-.78 2.05 0 2.83L4 21.41c.39.39.9.59 1.41.59.51 0 1.02-.2 1.41-.59l7.78-7.78 2.81-2.81c.8-.78.8-2.07 0-2.86zM5.41 20L4 18.59l7.72-7.72 1.47 1.35L5.41 20z\"/>\n",
              "  </svg>\n",
              "      </button>\n",
              "      \n",
              "  <style>\n",
              "    .colab-df-container {\n",
              "      display:flex;\n",
              "      flex-wrap:wrap;\n",
              "      gap: 12px;\n",
              "    }\n",
              "\n",
              "    .colab-df-convert {\n",
              "      background-color: #E8F0FE;\n",
              "      border: none;\n",
              "      border-radius: 50%;\n",
              "      cursor: pointer;\n",
              "      display: none;\n",
              "      fill: #1967D2;\n",
              "      height: 32px;\n",
              "      padding: 0 0 0 0;\n",
              "      width: 32px;\n",
              "    }\n",
              "\n",
              "    .colab-df-convert:hover {\n",
              "      background-color: #E2EBFA;\n",
              "      box-shadow: 0px 1px 2px rgba(60, 64, 67, 0.3), 0px 1px 3px 1px rgba(60, 64, 67, 0.15);\n",
              "      fill: #174EA6;\n",
              "    }\n",
              "\n",
              "    [theme=dark] .colab-df-convert {\n",
              "      background-color: #3B4455;\n",
              "      fill: #D2E3FC;\n",
              "    }\n",
              "\n",
              "    [theme=dark] .colab-df-convert:hover {\n",
              "      background-color: #434B5C;\n",
              "      box-shadow: 0px 1px 3px 1px rgba(0, 0, 0, 0.15);\n",
              "      filter: drop-shadow(0px 1px 2px rgba(0, 0, 0, 0.3));\n",
              "      fill: #FFFFFF;\n",
              "    }\n",
              "  </style>\n",
              "\n",
              "      <script>\n",
              "        const buttonEl =\n",
              "          document.querySelector('#df-e9a1d258-b382-4a60-a827-fc0078c97db3 button.colab-df-convert');\n",
              "        buttonEl.style.display =\n",
              "          google.colab.kernel.accessAllowed ? 'block' : 'none';\n",
              "\n",
              "        async function convertToInteractive(key) {\n",
              "          const element = document.querySelector('#df-e9a1d258-b382-4a60-a827-fc0078c97db3');\n",
              "          const dataTable =\n",
              "            await google.colab.kernel.invokeFunction('convertToInteractive',\n",
              "                                                     [key], {});\n",
              "          if (!dataTable) return;\n",
              "\n",
              "          const docLinkHtml = 'Like what you see? Visit the ' +\n",
              "            '<a target=\"_blank\" href=https://colab.research.google.com/notebooks/data_table.ipynb>data table notebook</a>'\n",
              "            + ' to learn more about interactive tables.';\n",
              "          element.innerHTML = '';\n",
              "          dataTable['output_type'] = 'display_data';\n",
              "          await google.colab.output.renderOutput(dataTable, element);\n",
              "          const docLink = document.createElement('div');\n",
              "          docLink.innerHTML = docLinkHtml;\n",
              "          element.appendChild(docLink);\n",
              "        }\n",
              "      </script>\n",
              "    </div>\n",
              "  </div>\n",
              "  "
            ]
          },
          "metadata": {},
          "execution_count": 159
        }
      ],
      "source": [
        "train_df.head()"
      ]
    },
    {
      "cell_type": "code",
      "execution_count": 160,
      "id": "33efdcab-622d-4d1b-b2e0-795be3a71cd0",
      "metadata": {
        "colab": {
          "base_uri": "https://localhost:8080/"
        },
        "id": "33efdcab-622d-4d1b-b2e0-795be3a71cd0",
        "outputId": "ea3babce-b00f-47a9-b049-4b2c52b67931"
      },
      "outputs": [
        {
          "output_type": "execute_result",
          "data": {
            "text/plain": [
              "0     15000\n",
              "1     15000\n",
              "2     15000\n",
              "3     15000\n",
              "4     14992\n",
              "5     14949\n",
              "6     14758\n",
              "7     14279\n",
              "8     13346\n",
              "9     11981\n",
              "10    10041\n",
              "11     7892\n",
              "12     5853\n",
              "13     4152\n",
              "14     2835\n",
              "15     1861\n",
              "16     1188\n",
              "17      751\n",
              "18      462\n",
              "19      286\n",
              "20      162\n",
              "21      101\n",
              "22       66\n",
              "23       33\n",
              "24       22\n",
              "25       14\n",
              "26        7\n",
              "27        4\n",
              "28        3\n",
              "29        1\n",
              "30        1\n",
              "Name: line_number, dtype: int64"
            ]
          },
          "metadata": {},
          "execution_count": 160
        }
      ],
      "source": [
        "train_df.line_number.value_counts()"
      ]
    },
    {
      "cell_type": "code",
      "execution_count": 161,
      "id": "413ad577-9737-476b-a273-420a8284a8bf",
      "metadata": {
        "colab": {
          "base_uri": "https://localhost:8080/",
          "height": 265
        },
        "id": "413ad577-9737-476b-a273-420a8284a8bf",
        "outputId": "d53d08b5-cd20-4b50-9f78-2157b9e05137"
      },
      "outputs": [
        {
          "output_type": "display_data",
          "data": {
            "text/plain": [
              "<Figure size 432x288 with 1 Axes>"
            ],
            "image/png": "[encoded data removed]"
          },
          "metadata": {
            "needs_background": "light"
          }
        }
      ],
      "source": [
        "train_df.line_number.plot.hist();"
      ]
    },
    {
      "cell_type": "code",
      "execution_count": 201,
      "id": "9ecd4202-eb1c-4560-af16-753961e655fc",
      "metadata": {
        "id": "9ecd4202-eb1c-4560-af16-753961e655fc"
      },
      "outputs": [],
      "source": [
        "# Using TensorFlow to create one-hot-encoded tensors of our \"line_number\" column \n",
        "train_line_numbers_one_hot = tf.one_hot(train_df[\"line_number\"].to_numpy(), depth=15)\n",
        "val_line_numbers_one_hot = tf.one_hot(val_df[\"line_number\"].to_numpy(), depth=15)\n",
        "test_line_numbers_one_hot = tf.one_hot(test_df[\"line_number\"].to_numpy(), depth=15)"
      ]
    },
    {
      "cell_type": "code",
      "execution_count": 163,
      "id": "f60e0ae3-28c9-4f15-ba64-0b0d6ccb96b3",
      "metadata": {
        "colab": {
          "base_uri": "https://localhost:8080/"
        },
        "id": "f60e0ae3-28c9-4f15-ba64-0b0d6ccb96b3",
        "outputId": "683b2f3b-8f1b-4172-80e4-09d1b11fe409"
      },
      "outputs": [
        {
          "output_type": "execute_result",
          "data": {
            "text/plain": [
              "(TensorShape([180040, 15]), <tf.Tensor: shape=(20, 15), dtype=float32, numpy=\n",
              " array([[1., 0., 0., 0., 0., 0., 0., 0., 0., 0., 0., 0., 0., 0., 0.],\n",
              "        [0., 1., 0., 0., 0., 0., 0., 0., 0., 0., 0., 0., 0., 0., 0.],\n",
              "        [0., 0., 1., 0., 0., 0., 0., 0., 0., 0., 0., 0., 0., 0., 0.],\n",
              "        [0., 0., 0., 1., 0., 0., 0., 0., 0., 0., 0., 0., 0., 0., 0.],\n",
              "        [0., 0., 0., 0., 1., 0., 0., 0., 0., 0., 0., 0., 0., 0., 0.],\n",
              "        [0., 0., 0., 0., 0., 1., 0., 0., 0., 0., 0., 0., 0., 0., 0.],\n",
              "        [0., 0., 0., 0., 0., 0., 1., 0., 0., 0., 0., 0., 0., 0., 0.],\n",
              "        [0., 0., 0., 0., 0., 0., 0., 1., 0., 0., 0., 0., 0., 0., 0.],\n",
              "        [0., 0., 0., 0., 0., 0., 0., 0., 1., 0., 0., 0., 0., 0., 0.],\n",
              "        [0., 0., 0., 0., 0., 0., 0., 0., 0., 1., 0., 0., 0., 0., 0.],\n",
              "        [0., 0., 0., 0., 0., 0., 0., 0., 0., 0., 1., 0., 0., 0., 0.],\n",
              "        [0., 0., 0., 0., 0., 0., 0., 0., 0., 0., 0., 1., 0., 0., 0.],\n",
              "        [1., 0., 0., 0., 0., 0., 0., 0., 0., 0., 0., 0., 0., 0., 0.],\n",
              "        [0., 1., 0., 0., 0., 0., 0., 0., 0., 0., 0., 0., 0., 0., 0.],\n",
              "        [0., 0., 1., 0., 0., 0., 0., 0., 0., 0., 0., 0., 0., 0., 0.],\n",
              "        [0., 0., 0., 1., 0., 0., 0., 0., 0., 0., 0., 0., 0., 0., 0.],\n",
              "        [0., 0., 0., 0., 1., 0., 0., 0., 0., 0., 0., 0., 0., 0., 0.],\n",
              "        [0., 0., 0., 0., 0., 1., 0., 0., 0., 0., 0., 0., 0., 0., 0.],\n",
              "        [0., 0., 0., 0., 0., 0., 1., 0., 0., 0., 0., 0., 0., 0., 0.],\n",
              "        [0., 0., 0., 0., 0., 0., 0., 1., 0., 0., 0., 0., 0., 0., 0.]],\n",
              "       dtype=float32)>)"
            ]
          },
          "metadata": {},
          "execution_count": 163
        }
      ],
      "source": [
        "train_line_numbers_one_hot.shape, train_line_numbers_one_hot[:20]"
      ]
    },
    {
      "cell_type": "code",
      "execution_count": 164,
      "id": "64a41894-2bae-45a9-a157-15988d1e8c0f",
      "metadata": {
        "colab": {
          "base_uri": "https://localhost:8080/"
        },
        "id": "64a41894-2bae-45a9-a157-15988d1e8c0f",
        "outputId": "469b1ecc-696b-4190-b626-d761cba91eb6"
      },
      "outputs": [
        {
          "output_type": "execute_result",
          "data": {
            "text/plain": [
              "11    24468\n",
              "10    23639\n",
              "12    22113\n",
              "9     19400\n",
              "13    18438\n",
              "14    14610\n",
              "8     12285\n",
              "15    10768\n",
              "7      7464\n",
              "16     7429\n",
              "17     5202\n",
              "6      3353\n",
              "18     3344\n",
              "19     2480\n",
              "20     1281\n",
              "5      1146\n",
              "21      770\n",
              "22      759\n",
              "23      264\n",
              "4       215\n",
              "24      200\n",
              "25      182\n",
              "26       81\n",
              "28       58\n",
              "3        32\n",
              "30       31\n",
              "27       28\n",
              "Name: total_lines, dtype: int64"
            ]
          },
          "metadata": {},
          "execution_count": 164
        }
      ],
      "source": [
        "train_df[\"total_lines\"].value_counts()"
      ]
    },
    {
      "cell_type": "code",
      "execution_count": 165,
      "id": "ef597383-f0bd-450b-a6f1-8fe8bc2b44c3",
      "metadata": {
        "colab": {
          "base_uri": "https://localhost:8080/",
          "height": 267
        },
        "id": "ef597383-f0bd-450b-a6f1-8fe8bc2b44c3",
        "outputId": "69cebd95-3e23-4dd7-aa13-167b0dff9893"
      },
      "outputs": [
        {
          "output_type": "display_data",
          "data": {
            "text/plain": [
              "<Figure size 432x288 with 1 Axes>"
            ],
            "image/png": "[encoded data removed]"
          },
          "metadata": {
            "needs_background": "light"
          }
        }
      ],
      "source": [
        "train_df.total_lines.plot.hist();"
      ]
    },
    {
      "cell_type": "code",
      "execution_count": 166,
      "id": "217e1e24-f4f4-4aef-863c-39cfc914e8ca",
      "metadata": {
        "colab": {
          "base_uri": "https://localhost:8080/"
        },
        "id": "217e1e24-f4f4-4aef-863c-39cfc914e8ca",
        "outputId": "ef7546b7-31c6-4d53-d73d-3e42e14c3d83"
      },
      "outputs": [
        {
          "output_type": "execute_result",
          "data": {
            "text/plain": [
              "20.0"
            ]
          },
          "metadata": {},
          "execution_count": 166
        }
      ],
      "source": [
        "np.percentile(train_df.total_lines, 98)"
      ]
    },
    {
      "cell_type": "code",
      "execution_count": 202,
      "id": "74ffaa3d-8369-46ed-a7b4-7b7d93e66aa5",
      "metadata": {
        "colab": {
          "base_uri": "https://localhost:8080/"
        },
        "id": "74ffaa3d-8369-46ed-a7b4-7b7d93e66aa5",
        "outputId": "dd08f732-6de6-483b-f171-9102bced8722"
      },
      "outputs": [
        {
          "output_type": "execute_result",
          "data": {
            "text/plain": [
              "(TensorShape([180040, 20]), <tf.Tensor: shape=(10, 20), dtype=float32, numpy=\n",
              " array([[0., 0., 0., 0., 0., 0., 0., 0., 0., 0., 0., 1., 0., 0., 0., 0.,\n",
              "         0., 0., 0., 0.],\n",
              "        [0., 0., 0., 0., 0., 0., 0., 0., 0., 0., 0., 1., 0., 0., 0., 0.,\n",
              "         0., 0., 0., 0.],\n",
              "        [0., 0., 0., 0., 0., 0., 0., 0., 0., 0., 0., 1., 0., 0., 0., 0.,\n",
              "         0., 0., 0., 0.],\n",
              "        [0., 0., 0., 0., 0., 0., 0., 0., 0., 0., 0., 1., 0., 0., 0., 0.,\n",
              "         0., 0., 0., 0.],\n",
              "        [0., 0., 0., 0., 0., 0., 0., 0., 0., 0., 0., 1., 0., 0., 0., 0.,\n",
              "         0., 0., 0., 0.],\n",
              "        [0., 0., 0., 0., 0., 0., 0., 0., 0., 0., 0., 1., 0., 0., 0., 0.,\n",
              "         0., 0., 0., 0.],\n",
              "        [0., 0., 0., 0., 0., 0., 0., 0., 0., 0., 0., 1., 0., 0., 0., 0.,\n",
              "         0., 0., 0., 0.],\n",
              "        [0., 0., 0., 0., 0., 0., 0., 0., 0., 0., 0., 1., 0., 0., 0., 0.,\n",
              "         0., 0., 0., 0.],\n",
              "        [0., 0., 0., 0., 0., 0., 0., 0., 0., 0., 0., 1., 0., 0., 0., 0.,\n",
              "         0., 0., 0., 0.],\n",
              "        [0., 0., 0., 0., 0., 0., 0., 0., 0., 0., 0., 1., 0., 0., 0., 0.,\n",
              "         0., 0., 0., 0.]], dtype=float32)>)"
            ]
          },
          "metadata": {},
          "execution_count": 202
        }
      ],
      "source": [
        "train_total_lines_one_hot = tf.one_hot(train_df[\"total_lines\"].to_numpy(), depth=20)\n",
        "val_total_lines_one_hot = tf.one_hot(val_df[\"total_lines\"].to_numpy(), depth=20)\n",
        "test_total_lines_one_hot = tf.one_hot(test_df[\"total_lines\"].to_numpy(), depth=20)\n",
        "\n",
        "train_total_lines_one_hot.shape, train_total_lines_one_hot[:10]"
      ]
    },
    {
      "cell_type": "markdown",
      "id": "8e5981fb-1001-491f-91bd-0b11a446c241",
      "metadata": {
        "id": "8e5981fb-1001-491f-91bd-0b11a446c241"
      },
      "source": [
        "#### Constructing the model"
      ]
    },
    {
      "cell_type": "code",
      "execution_count": 168,
      "id": "cab0706c-8bf9-48e6-96c3-b3654c37c360",
      "metadata": {
        "id": "cab0706c-8bf9-48e6-96c3-b3654c37c360"
      },
      "outputs": [],
      "source": [
        "# Setup word inputs\n",
        "word_inputs = layers.Input(shape=[], dtype=tf.string, name=\"word_input\")\n",
        "word_embeddings = tf_hub_embedding_layer(word_inputs)\n",
        "word_output = layers.Dense(128, activation=\"relu\")(word_embeddings)\n",
        "word_model = tf.keras.Model(inputs=word_inputs, \n",
        "                            outputs=word_output)\n",
        "\n",
        "# Setup char inputs\n",
        "char_inputs = layers.Input(shape=(1,), dtype=tf.string, name=\"char_input\")\n",
        "char_vectors = char_vectorizer(char_inputs)\n",
        "char_embeddings = char_embed(char_vectors)\n",
        "char_bi_lstm = layers.Bidirectional(layers.LSTM(32))(char_embeddings)\n",
        "char_model = tf.keras.Model(inputs=char_inputs,\n",
        "                            outputs=char_bi_lstm)\n",
        "\n",
        "# Line numbers inputs\n",
        "line_number_inputs = layers.Input(shape=(15,), dtype=tf.int32, name=\"line_number_input\")\n",
        "x = layers.Dense(32, activation=\"relu\")(line_number_inputs)\n",
        "line_number_model = tf.keras.Model(inputs=line_number_inputs,\n",
        "                                   outputs=x)\n",
        "\n",
        "# Total lines inputs\n",
        "total_lines_inputs = layers.Input(shape=(20,), dtype=tf.int32, name=\"total_lines_input\")\n",
        "y = layers.Dense(32, activation=\"relu\")(total_lines_inputs)\n",
        "total_line_model = tf.keras.Model(inputs=total_lines_inputs,\n",
        "                                  outputs=y)\n",
        "\n",
        "# Concatenate word and char inputs\n",
        "word_char_concat = layers.Concatenate(name=\"word_char_concat\")([word_model.output,\n",
        "                                                                char_model.output])\n",
        "\n",
        "z = layers.Dense(256, activation=\"relu\")(word_char_concat)\n",
        "z = layers.Dropout(0.5)(z)\n",
        "\n",
        "# Concatenate positional embeddings with word and char embeddings\n",
        "z = layers.Concatenate(name=\"token_char_positional_embedding\")([line_number_model.output,\n",
        "                                                                total_line_model.output,\n",
        "                                                                z])\n",
        "\n",
        "output_layer = layers.Dense(num_classes, activation=\"softmax\", name=\"output_layer\")(z)\n",
        "\n",
        "model_3 = tf.keras.Model(inputs=[line_number_model.input,\n",
        "                                 total_line_model.input,\n",
        "                                 word_model.input, \n",
        "                                 char_model.input],\n",
        "                         outputs=output_layer)"
      ]
    },
    {
      "cell_type": "code",
      "execution_count": 169,
      "id": "6110778a-67e0-42e4-86d6-750518489088",
      "metadata": {
        "colab": {
          "base_uri": "https://localhost:8080/"
        },
        "id": "6110778a-67e0-42e4-86d6-750518489088",
        "outputId": "b892ea0e-b8d5-47e8-b09d-047bc099da20"
      },
      "outputs": [
        {
          "output_type": "stream",
          "name": "stdout",
          "text": [
            "Model: \"model_11\"\n",
            "__________________________________________________________________________________________________\n",
            " Layer (type)                   Output Shape         Param #     Connected to                     \n",
            "==================================================================================================\n",
            " char_input (InputLayer)        [(None, 1)]          0           []                               \n",
            "                                                                                                  \n",
            " word_input (InputLayer)        [(None,)]            0           []                               \n",
            "                                                                                                  \n",
            " char_vectorizer (TextVectoriza  (None, 290)         0           ['char_input[0][0]']             \n",
            " tion)                                                                                            \n",
            "                                                                                                  \n",
            " universal_sentence_encoder (Ke  (None, 512)         256797824   ['word_input[0][0]']             \n",
            " rasLayer)                                                                                        \n",
            "                                                                                                  \n",
            " char_embed (Embedding)         (None, 290, 25)      700         ['char_vectorizer[1][0]']        \n",
            "                                                                                                  \n",
            " dense_8 (Dense)                (None, 128)          65664       ['universal_sentence_encoder[1][0\n",
            "                                                                 ]']                              \n",
            "                                                                                                  \n",
            " bidirectional_1 (Bidirectional  (None, 64)          14848       ['char_embed[1][0]']             \n",
            " )                                                                                                \n",
            "                                                                                                  \n",
            " word_char_concat (Concatenate)  (None, 192)         0           ['dense_8[0][0]',                \n",
            "                                                                  'bidirectional_1[0][0]']        \n",
            "                                                                                                  \n",
            " line_number_input (InputLayer)  [(None, 15)]        0           []                               \n",
            "                                                                                                  \n",
            " total_lines_input (InputLayer)  [(None, 20)]        0           []                               \n",
            "                                                                                                  \n",
            " dense_11 (Dense)               (None, 256)          49408       ['word_char_concat[0][0]']       \n",
            "                                                                                                  \n",
            " dense_9 (Dense)                (None, 32)           512         ['line_number_input[0][0]']      \n",
            "                                                                                                  \n",
            " dense_10 (Dense)               (None, 32)           672         ['total_lines_input[0][0]']      \n",
            "                                                                                                  \n",
            " dropout_2 (Dropout)            (None, 256)          0           ['dense_11[0][0]']               \n",
            "                                                                                                  \n",
            " token_char_positional_embeddin  (None, 320)         0           ['dense_9[0][0]',                \n",
            " g (Concatenate)                                                  'dense_10[0][0]',               \n",
            "                                                                  'dropout_2[0][0]']              \n",
            "                                                                                                  \n",
            " output_layer (Dense)           (None, 5)            1605        ['token_char_positional_embedding\n",
            "                                                                 [0][0]']                         \n",
            "                                                                                                  \n",
            "==================================================================================================\n",
            "Total params: 256,931,233\n",
            "Trainable params: 133,409\n",
            "Non-trainable params: 256,797,824\n",
            "__________________________________________________________________________________________________\n"
          ]
        }
      ],
      "source": [
        "model_3.summary()"
      ]
    },
    {
      "cell_type": "code",
      "execution_count": 170,
      "id": "2626efcb-bfa8-45c8-bbac-217b7b414e17",
      "metadata": {
        "colab": {
          "base_uri": "https://localhost:8080/",
          "height": 856
        },
        "id": "2626efcb-bfa8-45c8-bbac-217b7b414e17",
        "outputId": "08b1866f-24df-4b76-b1e2-b8bc1edd61e8"
      },
      "outputs": [
        {
          "output_type": "execute_result",
          "data": {
            "image/png": "[encoded data removed]",
            "text/plain": [
              "<IPython.core.display.Image object>"
            ]
          },
          "metadata": {},
          "execution_count": 170
        }
      ],
      "source": [
        "from tensorflow.keras.utils import plot_model\n",
        "plot_model(model_3)"
      ]
    },
    {
      "cell_type": "code",
      "execution_count": 171,
      "id": "ffc1a9da-3828-4dee-aaef-2fb18ebed05b",
      "metadata": {
        "colab": {
          "base_uri": "https://localhost:8080/"
        },
        "id": "ffc1a9da-3828-4dee-aaef-2fb18ebed05b",
        "outputId": "ff787272-fd15-4a20-97fc-e810b9bc7918"
      },
      "outputs": [
        {
          "output_type": "stream",
          "name": "stdout",
          "text": [
            "<keras.engine.input_layer.InputLayer object at 0x7f5af1457c40> True\n",
            "<keras.engine.input_layer.InputLayer object at 0x7f5af14577f0> True\n",
            "<keras.layers.preprocessing.text_vectorization.TextVectorization object at 0x7f5a360d0df0> True\n",
            "<tensorflow_hub.keras_layer.KerasLayer object at 0x7f5b5e752a60> False\n",
            "<keras.layers.core.embedding.Embedding object at 0x7f5a360ebee0> True\n",
            "<keras.layers.core.dense.Dense object at 0x7f5af1457d60> True\n",
            "<keras.layers.rnn.bidirectional.Bidirectional object at 0x7f5af15a7730> True\n",
            "<keras.layers.merging.concatenate.Concatenate object at 0x7f5af15b2fa0> True\n",
            "<keras.engine.input_layer.InputLayer object at 0x7f5b5eff0310> True\n",
            "<keras.engine.input_layer.InputLayer object at 0x7f5aef740d90> True\n",
            "<keras.layers.core.dense.Dense object at 0x7f5af15b29d0> True\n",
            "<keras.layers.core.dense.Dense object at 0x7f5aef1a4d30> True\n",
            "<keras.layers.core.dense.Dense object at 0x7f5aef1d9580> True\n",
            "<keras.layers.regularization.dropout.Dropout object at 0x7f5aee785160> True\n",
            "<keras.layers.merging.concatenate.Concatenate object at 0x7f5ae12eb250> True\n",
            "<keras.layers.core.dense.Dense object at 0x7f5aef54b0d0> True\n"
          ]
        }
      ],
      "source": [
        "for layer in model_3.layers:\n",
        "    print(layer, layer.trainable)"
      ]
    },
    {
      "cell_type": "code",
      "execution_count": 172,
      "id": "6ade4f6b-b048-4895-ab8a-7e09df138966",
      "metadata": {
        "id": "6ade4f6b-b048-4895-ab8a-7e09df138966"
      },
      "outputs": [],
      "source": [
        "model_3.compile(loss=tf.keras.losses.CategoricalCrossentropy(label_smoothing=0.2),\n",
        "                optimizer=tf.keras.optimizers.Adam(),\n",
        "                metrics=[\"accuracy\"])"
      ]
    },
    {
      "cell_type": "code",
      "execution_count": 173,
      "id": "4541e76d-be3a-47fc-a30e-a11a4a22c024",
      "metadata": {
        "colab": {
          "base_uri": "https://localhost:8080/"
        },
        "id": "4541e76d-be3a-47fc-a30e-a11a4a22c024",
        "outputId": "d8ac8b6c-79e5-4f25-c38b-ef55c35b098b"
      },
      "outputs": [
        {
          "output_type": "execute_result",
          "data": {
            "text/plain": [
              "(<PrefetchDataset element_spec=((TensorSpec(shape=(None, 15), dtype=tf.float32, name=None), TensorSpec(shape=(None, 20), dtype=tf.float32, name=None), TensorSpec(shape=(None,), dtype=tf.string, name=None), TensorSpec(shape=(None,), dtype=tf.string, name=None)), TensorSpec(shape=(None, 5), dtype=tf.float64, name=None))>,\n",
              " <PrefetchDataset element_spec=((TensorSpec(shape=(None, 15), dtype=tf.float32, name=None), TensorSpec(shape=(None, 20), dtype=tf.float32, name=None), TensorSpec(shape=(None,), dtype=tf.string, name=None), TensorSpec(shape=(None,), dtype=tf.string, name=None)), TensorSpec(shape=(None, 5), dtype=tf.float64, name=None))>)"
            ]
          },
          "metadata": {},
          "execution_count": 173
        }
      ],
      "source": [
        "train_pos_char_word_data = tf.data.Dataset.from_tensor_slices((train_line_numbers_one_hot,\n",
        "                                                                train_total_lines_one_hot,\n",
        "                                                                train_sentences,\n",
        "                                                                train_chars))\n",
        "train_pos_char_word_labels = tf.data.Dataset.from_tensor_slices(train_labels_one_hot)\n",
        "train_pos_char_word_dataset = tf.data.Dataset.zip((train_pos_char_word_data, train_pos_char_word_labels))\n",
        "train_pos_char_word_dataset = train_pos_char_word_dataset.batch(32).prefetch(tf.data.AUTOTUNE)\n",
        "\n",
        "\n",
        "val_pos_char_word_data = tf.data.Dataset.from_tensor_slices((val_line_numbers_one_hot,\n",
        "                                                              val_total_lines_one_hot,\n",
        "                                                              val_sentences,\n",
        "                                                              val_chars))\n",
        "val_pos_char_word_labels = tf.data.Dataset.from_tensor_slices(val_labels_one_hot)\n",
        "val_pos_char_word_dataset = tf.data.Dataset.zip((val_pos_char_word_data, val_pos_char_word_labels))\n",
        "val_pos_char_word_dataset = val_pos_char_word_dataset.batch(32).prefetch(tf.data.AUTOTUNE)\n",
        "\n",
        "train_pos_char_word_dataset, val_pos_char_word_dataset     "
      ]
    },
    {
      "cell_type": "markdown",
      "id": "5aacbc1a-b7fb-427c-89e3-03321be376d9",
      "metadata": {
        "id": "5aacbc1a-b7fb-427c-89e3-03321be376d9"
      },
      "source": [
        "#### Fitting the model"
      ]
    },
    {
      "cell_type": "code",
      "execution_count": 174,
      "id": "23dc4afb-564b-4d5b-8de3-e33f7a4807b4",
      "metadata": {
        "colab": {
          "base_uri": "https://localhost:8080/"
        },
        "id": "23dc4afb-564b-4d5b-8de3-e33f7a4807b4",
        "outputId": "13734a03-e126-499f-ce01-7edbac43a98f"
      },
      "outputs": [
        {
          "output_type": "stream",
          "name": "stdout",
          "text": [
            "Epoch 1/20\n",
            "5627/5627 [==============================] - 194s 34ms/step - loss: 0.9536 - accuracy: 0.8234 - val_loss: 0.9074 - val_accuracy: 0.8470 - lr: 0.0010\n",
            "Epoch 2/20\n",
            "5627/5627 [==============================] - 187s 33ms/step - loss: 0.9085 - accuracy: 0.8542 - val_loss: 0.8976 - val_accuracy: 0.8537 - lr: 0.0010\n",
            "Epoch 3/20\n",
            "5627/5627 [==============================] - 184s 33ms/step - loss: 0.8958 - accuracy: 0.8629 - val_loss: 0.8956 - val_accuracy: 0.8537 - lr: 0.0010\n",
            "Epoch 4/20\n",
            "5627/5627 [==============================] - 186s 33ms/step - loss: 0.8861 - accuracy: 0.8705 - val_loss: 0.8921 - val_accuracy: 0.8553 - lr: 0.0010\n",
            "Epoch 5/20\n",
            "5627/5627 [==============================] - 185s 33ms/step - loss: 0.8793 - accuracy: 0.8752 - val_loss: 0.8934 - val_accuracy: 0.8548 - lr: 0.0010\n",
            "Epoch 6/20\n",
            "5626/5627 [============================>.] - ETA: 0s - loss: 0.8748 - accuracy: 0.8791\n",
            "Epoch 6: ReduceLROnPlateau reducing learning rate to 0.00010000000474974513.\n",
            "5627/5627 [==============================] - 185s 33ms/step - loss: 0.8748 - accuracy: 0.8791 - val_loss: 0.8944 - val_accuracy: 0.8556 - lr: 0.0010\n",
            "Epoch 7/20\n",
            "5627/5627 [==============================] - 188s 33ms/step - loss: 0.8582 - accuracy: 0.8903 - val_loss: 0.8857 - val_accuracy: 0.8612 - lr: 1.0000e-04\n",
            "Epoch 8/20\n",
            "5627/5627 [==============================] - 185s 33ms/step - loss: 0.8528 - accuracy: 0.8939 - val_loss: 0.8852 - val_accuracy: 0.8610 - lr: 1.0000e-04\n",
            "Epoch 9/20\n",
            "5627/5627 [==============================] - 186s 33ms/step - loss: 0.8500 - accuracy: 0.8954 - val_loss: 0.8855 - val_accuracy: 0.8615 - lr: 1.0000e-04\n",
            "Epoch 10/20\n",
            "5626/5627 [============================>.] - ETA: 0s - loss: 0.8482 - accuracy: 0.8967\n",
            "Epoch 10: ReduceLROnPlateau reducing learning rate to 1.0000000474974514e-05.\n",
            "5627/5627 [==============================] - 183s 32ms/step - loss: 0.8482 - accuracy: 0.8967 - val_loss: 0.8860 - val_accuracy: 0.8614 - lr: 1.0000e-04\n",
            "Epoch 11/20\n",
            "5627/5627 [==============================] - 187s 33ms/step - loss: 0.8456 - accuracy: 0.8989 - val_loss: 0.8843 - val_accuracy: 0.8622 - lr: 1.0000e-05\n",
            "Epoch 12/20\n",
            "5627/5627 [==============================] - 184s 33ms/step - loss: 0.8450 - accuracy: 0.8991 - val_loss: 0.8841 - val_accuracy: 0.8617 - lr: 1.0000e-05\n",
            "Epoch 13/20\n",
            "5627/5627 [==============================] - 185s 33ms/step - loss: 0.8448 - accuracy: 0.8994 - val_loss: 0.8840 - val_accuracy: 0.8616 - lr: 1.0000e-05\n",
            "Epoch 14/20\n",
            "5627/5627 [==============================] - 184s 33ms/step - loss: 0.8443 - accuracy: 0.9001 - val_loss: 0.8840 - val_accuracy: 0.8617 - lr: 1.0000e-05\n",
            "Epoch 15/20\n",
            "5626/5627 [============================>.] - ETA: 0s - loss: 0.8444 - accuracy: 0.8999\n",
            "Epoch 15: ReduceLROnPlateau reducing learning rate to 1.0000000656873453e-06.\n",
            "5627/5627 [==============================] - 181s 32ms/step - loss: 0.8444 - accuracy: 0.8999 - val_loss: 0.8840 - val_accuracy: 0.8616 - lr: 1.0000e-05\n",
            "Epoch 16/20\n",
            "5627/5627 [==============================] - 183s 33ms/step - loss: 0.8438 - accuracy: 0.9003 - val_loss: 0.8839 - val_accuracy: 0.8618 - lr: 1.0000e-06\n",
            "Epoch 17/20\n",
            "5627/5627 [==============================] - 179s 32ms/step - loss: 0.8438 - accuracy: 0.8999 - val_loss: 0.8839 - val_accuracy: 0.8619 - lr: 1.0000e-06\n",
            "Epoch 18/20\n",
            "5627/5627 [==============================] - 181s 32ms/step - loss: 0.8438 - accuracy: 0.9005 - val_loss: 0.8838 - val_accuracy: 0.8620 - lr: 1.0000e-06\n",
            "Epoch 19/20\n",
            "5626/5627 [============================>.] - ETA: 0s - loss: 0.8436 - accuracy: 0.9003\n",
            "Epoch 19: ReduceLROnPlateau reducing learning rate to 1.0000001111620805e-07.\n",
            "5627/5627 [==============================] - 181s 32ms/step - loss: 0.8436 - accuracy: 0.9003 - val_loss: 0.8838 - val_accuracy: 0.8618 - lr: 1.0000e-06\n",
            "Epoch 20/20\n",
            "5627/5627 [==============================] - 181s 32ms/step - loss: 0.8438 - accuracy: 0.9000 - val_loss: 0.8838 - val_accuracy: 0.8618 - lr: 1.0000e-07\n"
          ]
        }
      ],
      "source": [
        "model_3_history = model_3.fit(train_pos_char_word_dataset,\n",
        "                              steps_per_epoch=len(train_pos_char_word_dataset),\n",
        "                              epochs=20,\n",
        "                              validation_data=val_pos_char_word_dataset,\n",
        "                              validation_steps=int(0.5 * len(val_pos_char_word_dataset)),\n",
        "                              callbacks=[tensorboard_callback(\"char_pretrained_word_positional_embedding\"),\n",
        "                                         checkpoint_callback(\"char_pretrained_word_positional_embedding\"),\n",
        "                                         early_stopping,\n",
        "                                         reduce_lr])"
      ]
    },
    {
      "cell_type": "code",
      "execution_count": 176,
      "id": "0b5f5878-468b-4086-b404-bc664c0a3c26",
      "metadata": {
        "colab": {
          "base_uri": "https://localhost:8080/"
        },
        "id": "0b5f5878-468b-4086-b404-bc664c0a3c26",
        "outputId": "bf8acfc5-dcef-4111-f443-612ca79ebb01"
      },
      "outputs": [
        {
          "output_type": "stream",
          "name": "stdout",
          "text": [
            "945/945 [==============================] - 19s 21ms/step - loss: 0.8857 - accuracy: 0.8625\n"
          ]
        },
        {
          "output_type": "execute_result",
          "data": {
            "text/plain": [
              "[0.8857336044311523, 0.8625380396842957]"
            ]
          },
          "metadata": {},
          "execution_count": 176
        }
      ],
      "source": [
        "model_3.evaluate(val_pos_char_word_dataset)"
      ]
    },
    {
      "cell_type": "code",
      "execution_count": 177,
      "id": "dd518125-114f-431c-960c-18fa3c161404",
      "metadata": {
        "colab": {
          "base_uri": "https://localhost:8080/"
        },
        "id": "dd518125-114f-431c-960c-18fa3c161404",
        "outputId": "9039f805-16ab-4aa9-c92a-03a7b2d76425"
      },
      "outputs": [
        {
          "output_type": "stream",
          "name": "stdout",
          "text": [
            "945/945 [==============================] - 20s 20ms/step\n"
          ]
        },
        {
          "output_type": "execute_result",
          "data": {
            "text/plain": [
              "<tf.Tensor: shape=(30212,), dtype=int64, numpy=array([0, 0, 3, ..., 4, 4, 1])>"
            ]
          },
          "metadata": {},
          "execution_count": 177
        }
      ],
      "source": [
        "model_3_preds = tf.argmax(model_3.predict(val_pos_char_word_dataset), axis=1)\n",
        "model_3_preds"
      ]
    },
    {
      "cell_type": "code",
      "execution_count": 178,
      "id": "48ea2cd6-124f-4f0b-9a83-45a2a1b04015",
      "metadata": {
        "colab": {
          "base_uri": "https://localhost:8080/"
        },
        "id": "48ea2cd6-124f-4f0b-9a83-45a2a1b04015",
        "outputId": "6ee24133-8226-4ebc-d4ab-e71bd310a494"
      },
      "outputs": [
        {
          "output_type": "execute_result",
          "data": {
            "text/plain": [
              "{'accuracy': 86.25380643452932,\n",
              " 'precision': 0.8628223510315828,\n",
              " 'recall': 0.8625380643452932,\n",
              " 'f1': 0.8603659294175826}"
            ]
          },
          "metadata": {},
          "execution_count": 178
        }
      ],
      "source": [
        "model_3_results = calculate_results(y_true=val_labels_encoded,\n",
        "                                    y_pred=model_3_preds)\n",
        "model_3_results"
      ]
    },
    {
      "cell_type": "code",
      "execution_count": 179,
      "id": "c8d64926-4f0d-4940-8a77-a30a72e1140e",
      "metadata": {
        "colab": {
          "base_uri": "https://localhost:8080/",
          "height": 573
        },
        "id": "c8d64926-4f0d-4940-8a77-a30a72e1140e",
        "outputId": "7bd7ff23-d18d-491e-d8b4-bdfc5eac18ac"
      },
      "outputs": [
        {
          "output_type": "display_data",
          "data": {
            "text/plain": [
              "<Figure size 432x288 with 1 Axes>"
            ],
            "image/png": "[encoded data removed]"
          },
          "metadata": {
            "needs_background": "light"
          }
        },
        {
          "output_type": "display_data",
          "data": {
            "text/plain": [
              "<Figure size 432x288 with 1 Axes>"
            ],
            "image/png": "[encoded data removed]"
          },
          "metadata": {
            "needs_background": "light"
          }
        }
      ],
      "source": [
        "from helper_functions import plot_loss_curves\n",
        "\n",
        "plot_loss_curves(model_3_history)"
      ]
    },
    {
      "cell_type": "code",
      "execution_count": 180,
      "id": "1a231e81-ef47-4c19-9277-f4dc9f3e904b",
      "metadata": {
        "colab": {
          "base_uri": "https://localhost:8080/"
        },
        "id": "1a231e81-ef47-4c19-9277-f4dc9f3e904b",
        "outputId": "5996b607-fc74-4343-e2fc-b2edb373228e"
      },
      "outputs": [
        {
          "output_type": "stream",
          "name": "stderr",
          "text": [
            "WARNING:absl:Found untraced functions such as lstm_cell_4_layer_call_fn, lstm_cell_4_layer_call_and_return_conditional_losses, lstm_cell_5_layer_call_fn, lstm_cell_5_layer_call_and_return_conditional_losses while saving (showing 4 of 4). These functions will not be directly callable after loading.\n"
          ]
        }
      ],
      "source": [
        "save_dir = \"drive/MyDrive/SkimLit/saved_models/char_pretrained_word_positional_embedding\"\n",
        "os.makedirs(save_dir)\n",
        "\n",
        "model_3.save(save_dir)"
      ]
    },
    {
      "cell_type": "markdown",
      "source": [
        "### Model 4: Combination of Conv1D token embeddings, character embeddings and positional embeddings"
      ],
      "metadata": {
        "id": "Bxn5uVoCRZti"
      },
      "id": "Bxn5uVoCRZti"
    },
    {
      "cell_type": "markdown",
      "source": [
        "#### Constructing the Model"
      ],
      "metadata": {
        "id": "yGAJHqKkSDqJ"
      },
      "id": "yGAJHqKkSDqJ"
    },
    {
      "cell_type": "code",
      "source": [
        "# Setup word inputs\n",
        "word_inputs = layers.Input(shape=(1,), dtype=tf.string, name=\"word_input\")\n",
        "text_vectors = text_vectorizer(word_inputs)\n",
        "word_embeddings = token_embed(text_vectors)\n",
        "x = layers.Conv1D(64, kernel_size=5, padding=\"same\", activation=\"relu\")(word_embeddings)\n",
        "word_output = layers.GlobalMaxPooling1D()(x)\n",
        "word_model = tf.keras.Model(inputs=word_inputs, \n",
        "                            outputs=word_output)\n",
        "\n",
        "# Setup char inputs\n",
        "char_inputs = layers.Input(shape=(1,), dtype=tf.string, name=\"char_input\")\n",
        "char_vectors = char_vectorizer(char_inputs)\n",
        "char_embeddings = char_embed(char_vectors)\n",
        "char_bi_lstm = layers.Bidirectional(layers.LSTM(32))(char_embeddings)\n",
        "char_model = tf.keras.Model(inputs=char_inputs,\n",
        "                            outputs=char_bi_lstm)\n",
        "\n",
        "# Line numbers inputs\n",
        "line_number_inputs = layers.Input(shape=(15,), dtype=tf.int32, name=\"line_number_input\")\n",
        "x = layers.Dense(32, activation=\"relu\")(line_number_inputs)\n",
        "line_number_model = tf.keras.Model(inputs=line_number_inputs,\n",
        "                                   outputs=x)\n",
        "\n",
        "# Total lines inputs\n",
        "total_lines_inputs = layers.Input(shape=(20,), dtype=tf.int32, name=\"total_lines_input\")\n",
        "y = layers.Dense(32, activation=\"relu\")(total_lines_inputs)\n",
        "total_line_model = tf.keras.Model(inputs=total_lines_inputs,\n",
        "                                  outputs=y)\n",
        "\n",
        "# Concatenate word and char inputs\n",
        "word_char_concat = layers.Concatenate(name=\"word_char_concat\")([word_model.output,\n",
        "                                                                char_model.output])\n",
        "\n",
        "z = layers.Dense(256, activation=\"relu\")(word_char_concat)\n",
        "z = layers.Dropout(0.5)(z)\n",
        "\n",
        "# Concatenate positional embeddings with word and char embeddings\n",
        "z = layers.Concatenate(name=\"token_char_positional_embedding\")([line_number_model.output,\n",
        "                                                                total_line_model.output,\n",
        "                                                                z])\n",
        "\n",
        "output_layer = layers.Dense(num_classes, activation=\"softmax\", name=\"output_layer\")(z)\n",
        "\n",
        "model_4 = tf.keras.Model(inputs=[line_number_model.input,\n",
        "                                 total_line_model.input,\n",
        "                                 word_model.input, \n",
        "                                 char_model.input],\n",
        "                         outputs=output_layer)"
      ],
      "metadata": {
        "id": "2CFkmSFiRmkb"
      },
      "id": "2CFkmSFiRmkb",
      "execution_count": 181,
      "outputs": []
    },
    {
      "cell_type": "code",
      "source": [
        "model_4.summary()"
      ],
      "metadata": {
        "colab": {
          "base_uri": "https://localhost:8080/"
        },
        "id": "e5rQEN4ARmNc",
        "outputId": "cfe7449c-9582-4c1d-9a89-72352f7deba9"
      },
      "id": "e5rQEN4ARmNc",
      "execution_count": 182,
      "outputs": [
        {
          "output_type": "stream",
          "name": "stdout",
          "text": [
            "Model: \"model_16\"\n",
            "__________________________________________________________________________________________________\n",
            " Layer (type)                   Output Shape         Param #     Connected to                     \n",
            "==================================================================================================\n",
            " word_input (InputLayer)        [(None, 1)]          0           []                               \n",
            "                                                                                                  \n",
            " text_vectorization_2 (TextVect  (None, 55)          0           ['word_input[0][0]']             \n",
            " orization)                                                                                       \n",
            "                                                                                                  \n",
            " char_input (InputLayer)        [(None, 1)]          0           []                               \n",
            "                                                                                                  \n",
            " token_embedding (Embedding)    (None, 55, 128)      8299648     ['text_vectorization_2[1][0]']   \n",
            "                                                                                                  \n",
            " char_vectorizer (TextVectoriza  (None, 290)         0           ['char_input[0][0]']             \n",
            " tion)                                                                                            \n",
            "                                                                                                  \n",
            " conv1d_5 (Conv1D)              (None, 55, 64)       41024       ['token_embedding[1][0]']        \n",
            "                                                                                                  \n",
            " char_embed (Embedding)         (None, 290, 25)      700         ['char_vectorizer[2][0]']        \n",
            "                                                                                                  \n",
            " global_max_pooling1d_4 (Global  (None, 64)          0           ['conv1d_5[0][0]']               \n",
            " MaxPooling1D)                                                                                    \n",
            "                                                                                                  \n",
            " bidirectional_2 (Bidirectional  (None, 64)          14848       ['char_embed[2][0]']             \n",
            " )                                                                                                \n",
            "                                                                                                  \n",
            " word_char_concat (Concatenate)  (None, 128)         0           ['global_max_pooling1d_4[0][0]', \n",
            "                                                                  'bidirectional_2[0][0]']        \n",
            "                                                                                                  \n",
            " line_number_input (InputLayer)  [(None, 15)]        0           []                               \n",
            "                                                                                                  \n",
            " total_lines_input (InputLayer)  [(None, 20)]        0           []                               \n",
            "                                                                                                  \n",
            " dense_14 (Dense)               (None, 256)          33024       ['word_char_concat[0][0]']       \n",
            "                                                                                                  \n",
            " dense_12 (Dense)               (None, 32)           512         ['line_number_input[0][0]']      \n",
            "                                                                                                  \n",
            " dense_13 (Dense)               (None, 32)           672         ['total_lines_input[0][0]']      \n",
            "                                                                                                  \n",
            " dropout_3 (Dropout)            (None, 256)          0           ['dense_14[0][0]']               \n",
            "                                                                                                  \n",
            " token_char_positional_embeddin  (None, 320)         0           ['dense_12[0][0]',               \n",
            " g (Concatenate)                                                  'dense_13[0][0]',               \n",
            "                                                                  'dropout_3[0][0]']              \n",
            "                                                                                                  \n",
            " output_layer (Dense)           (None, 5)            1605        ['token_char_positional_embedding\n",
            "                                                                 [0][0]']                         \n",
            "                                                                                                  \n",
            "==================================================================================================\n",
            "Total params: 8,392,033\n",
            "Trainable params: 8,392,033\n",
            "Non-trainable params: 0\n",
            "__________________________________________________________________________________________________\n"
          ]
        }
      ]
    },
    {
      "cell_type": "code",
      "source": [
        "from tensorflow.keras.utils import plot_model\n",
        "plot_model(model_4)"
      ],
      "metadata": {
        "colab": {
          "base_uri": "https://localhost:8080/",
          "height": 953
        },
        "id": "cl3RUi2wRl4x",
        "outputId": "666e2274-8707-477d-c164-b3df39d78e3c"
      },
      "id": "cl3RUi2wRl4x",
      "execution_count": 183,
      "outputs": [
        {
          "output_type": "execute_result",
          "data": {
            "image/png": "[encoded data removed]",
            "text/plain": [
              "<IPython.core.display.Image object>"
            ]
          },
          "metadata": {},
          "execution_count": 183
        }
      ]
    },
    {
      "cell_type": "code",
      "source": [
        "model_4.compile(loss=tf.keras.losses.CategoricalCrossentropy(label_smoothing=0.2),\n",
        "                optimizer=tf.keras.optimizers.Adam(),\n",
        "                metrics=[\"accuracy\"])"
      ],
      "metadata": {
        "id": "bfjm5qeHRlCZ"
      },
      "id": "bfjm5qeHRlCZ",
      "execution_count": 184,
      "outputs": []
    },
    {
      "cell_type": "markdown",
      "source": [
        "#### Fitting the model"
      ],
      "metadata": {
        "id": "lWH-oQM0VAaC"
      },
      "id": "lWH-oQM0VAaC"
    },
    {
      "cell_type": "code",
      "source": [
        "model_4_history = model_4.fit(train_pos_char_word_dataset,\n",
        "                              steps_per_epoch=len(train_pos_char_word_dataset),\n",
        "                              epochs=20,\n",
        "                              validation_data=val_pos_char_word_dataset,\n",
        "                              validation_steps=int(0.5 * len(val_pos_char_word_dataset)),\n",
        "                              callbacks=[tensorboard_callback(\"char_word_positional_embedding\"),\n",
        "                                         checkpoint_callback(\"char_word_positional_embedding\"),\n",
        "                                         early_stopping,\n",
        "                                         reduce_lr])"
      ],
      "metadata": {
        "colab": {
          "base_uri": "https://localhost:8080/"
        },
        "id": "DlTvf7CFU2qs",
        "outputId": "60fdf772-9bc4-45a6-a52a-d03237e00859"
      },
      "id": "DlTvf7CFU2qs",
      "execution_count": 185,
      "outputs": [
        {
          "output_type": "stream",
          "name": "stdout",
          "text": [
            "Epoch 1/20\n",
            "5627/5627 [==============================] - 161s 28ms/step - loss: 0.8874 - accuracy: 0.8716 - val_loss: 0.8786 - val_accuracy: 0.8659 - lr: 0.0010\n",
            "Epoch 2/20\n",
            "5627/5627 [==============================] - 160s 29ms/step - loss: 0.8208 - accuracy: 0.9187 - val_loss: 0.8894 - val_accuracy: 0.8594 - lr: 0.0010\n",
            "Epoch 3/20\n",
            "5627/5627 [==============================] - ETA: 0s - loss: 0.7750 - accuracy: 0.9535\n",
            "Epoch 3: ReduceLROnPlateau reducing learning rate to 0.00010000000474974513.\n",
            "5627/5627 [==============================] - 155s 28ms/step - loss: 0.7750 - accuracy: 0.9535 - val_loss: 0.9126 - val_accuracy: 0.8475 - lr: 0.0010\n",
            "Epoch 4/20\n",
            "5627/5627 [==============================] - 150s 27ms/step - loss: 0.7370 - accuracy: 0.9769 - val_loss: 0.8949 - val_accuracy: 0.8612 - lr: 1.0000e-04\n"
          ]
        }
      ]
    },
    {
      "cell_type": "code",
      "source": [
        "model_4.load_weights(\"drive/MyDrive/SkimLit/checkpoints/char_word_positional_embedding/\")\n",
        "model_4.evaluate(val_pos_char_word_dataset)"
      ],
      "metadata": {
        "colab": {
          "base_uri": "https://localhost:8080/"
        },
        "id": "QT1wHVPBU3BI",
        "outputId": "01026458-19d9-457a-c0da-1f8ccdc9ce2c"
      },
      "id": "QT1wHVPBU3BI",
      "execution_count": 190,
      "outputs": [
        {
          "output_type": "stream",
          "name": "stdout",
          "text": [
            "945/945 [==============================] - 12s 12ms/step - loss: 0.8818 - accuracy: 0.8648\n"
          ]
        },
        {
          "output_type": "execute_result",
          "data": {
            "text/plain": [
              "[0.8818206787109375, 0.864788830280304]"
            ]
          },
          "metadata": {},
          "execution_count": 190
        }
      ]
    },
    {
      "cell_type": "code",
      "source": [
        "model_4_preds = tf.argmax(model_4.predict(val_pos_char_word_dataset), axis=1)\n",
        "model_4_preds"
      ],
      "metadata": {
        "colab": {
          "base_uri": "https://localhost:8080/"
        },
        "id": "LqL5bhMqU3M-",
        "outputId": "b8cc68d7-e134-4bca-a502-a5b651cb9719"
      },
      "id": "LqL5bhMqU3M-",
      "execution_count": 191,
      "outputs": [
        {
          "output_type": "stream",
          "name": "stdout",
          "text": [
            "945/945 [==============================] - 11s 11ms/step\n"
          ]
        },
        {
          "output_type": "execute_result",
          "data": {
            "text/plain": [
              "<tf.Tensor: shape=(30212,), dtype=int64, numpy=array([0, 0, 3, ..., 4, 1, 1])>"
            ]
          },
          "metadata": {},
          "execution_count": 191
        }
      ]
    },
    {
      "cell_type": "code",
      "source": [
        "model_4_results = calculate_results(y_true=val_labels_encoded,\n",
        "                                    y_pred=model_4_preds)\n",
        "model_4_results"
      ],
      "metadata": {
        "colab": {
          "base_uri": "https://localhost:8080/"
        },
        "id": "1OEO96DnU3YU",
        "outputId": "3f0e9558-4b26-4526-b261-405afbe63049"
      },
      "id": "1OEO96DnU3YU",
      "execution_count": 192,
      "outputs": [
        {
          "output_type": "execute_result",
          "data": {
            "text/plain": [
              "{'accuracy': 86.47888256321991,\n",
              " 'precision': 0.8682951440380354,\n",
              " 'recall': 0.8647888256321992,\n",
              " 'f1': 0.8615915277315848}"
            ]
          },
          "metadata": {},
          "execution_count": 192
        }
      ]
    },
    {
      "cell_type": "code",
      "source": [
        "from helper_functions import plot_loss_curves\n",
        "\n",
        "plot_loss_curves(model_4_history)"
      ],
      "metadata": {
        "colab": {
          "base_uri": "https://localhost:8080/",
          "height": 573
        },
        "id": "SEnBRRquVdig",
        "outputId": "11f2fff5-2e14-46bb-f7d1-430519b95b79"
      },
      "id": "SEnBRRquVdig",
      "execution_count": 193,
      "outputs": [
        {
          "output_type": "display_data",
          "data": {
            "text/plain": [
              "<Figure size 432x288 with 1 Axes>"
            ],
            "image/png": "[encoded data removed]"
          },
          "metadata": {
            "needs_background": "light"
          }
        },
        {
          "output_type": "display_data",
          "data": {
            "text/plain": [
              "<Figure size 432x288 with 1 Axes>"
            ],
            "image/png": "[encoded data removed]"
          },
          "metadata": {
            "needs_background": "light"
          }
        }
      ]
    },
    {
      "cell_type": "code",
      "source": [
        "save_dir = \"drive/MyDrive/SkimLit/saved_models/char_word_positional_embedding\"\n",
        "os.makedirs(save_dir)\n",
        "\n",
        "model_4.save(save_dir)"
      ],
      "metadata": {
        "colab": {
          "base_uri": "https://localhost:8080/"
        },
        "id": "XGyP3XSaVd9W",
        "outputId": "e8633499-1ef8-4ce4-8440-1c14ef85ed4e"
      },
      "id": "XGyP3XSaVd9W",
      "execution_count": 194,
      "outputs": [
        {
          "output_type": "stream",
          "name": "stderr",
          "text": [
            "WARNING:absl:Found untraced functions such as _jit_compiled_convolution_op, lstm_cell_7_layer_call_fn, lstm_cell_7_layer_call_and_return_conditional_losses, lstm_cell_8_layer_call_fn, lstm_cell_8_layer_call_and_return_conditional_losses while saving (showing 5 of 5). These functions will not be directly callable after loading.\n"
          ]
        }
      ]
    },
    {
      "cell_type": "markdown",
      "source": [
        "## Comparing Results"
      ],
      "metadata": {
        "id": "j04w_2UHJ9F-"
      },
      "id": "j04w_2UHJ9F-"
    },
    {
      "cell_type": "code",
      "execution_count": 195,
      "id": "7b3538bf-4a42-4937-87e5-37194bf4277c",
      "metadata": {
        "colab": {
          "base_uri": "https://localhost:8080/",
          "height": 206
        },
        "id": "7b3538bf-4a42-4937-87e5-37194bf4277c",
        "outputId": "9a58c486-fdde-4752-8876-60d583ca559f"
      },
      "outputs": [
        {
          "output_type": "execute_result",
          "data": {
            "text/plain": [
              "                                            accuracy  precision    recall  \\\n",
              "baseline                                   72.183238   0.718647  0.721832   \n",
              "Conv1D_token_embed                         82.516881   0.824762  0.825169   \n",
              "char_pretrained_word_embedding             80.031113   0.800693  0.800311   \n",
              "char_pretrained_word_positional_embedding  86.253806   0.862822  0.862538   \n",
              "char_word_positional_embedding             86.478883   0.868295  0.864789   \n",
              "\n",
              "                                                 f1  \n",
              "baseline                                   0.698925  \n",
              "Conv1D_token_embed                         0.823424  \n",
              "char_pretrained_word_embedding             0.796529  \n",
              "char_pretrained_word_positional_embedding  0.860366  \n",
              "char_word_positional_embedding             0.861592  "
            ],
            "text/html": [
              "\n",
              "  <div id=\"df-d68483ce-b8e6-491f-8b0f-d3ecd66153eb\">\n",
              "    <div class=\"colab-df-container\">\n",
              "      <div>\n",
              "<style scoped>\n",
              "    .dataframe tbody tr th:only-of-type {\n",
              "        vertical-align: middle;\n",
              "    }\n",
              "\n",
              "    .dataframe tbody tr th {\n",
              "        vertical-align: top;\n",
              "    }\n",
              "\n",
              "    .dataframe thead th {\n",
              "        text-align: right;\n",
              "    }\n",
              "</style>\n",
              "<table border=\"1\" class=\"dataframe\">\n",
              "  <thead>\n",
              "    <tr style=\"text-align: right;\">\n",
              "      <th></th>\n",
              "      <th>accuracy</th>\n",
              "      <th>precision</th>\n",
              "      <th>recall</th>\n",
              "      <th>f1</th>\n",
              "    </tr>\n",
              "  </thead>\n",
              "  <tbody>\n",
              "    <tr>\n",
              "      <th>baseline</th>\n",
              "      <td>72.183238</td>\n",
              "      <td>0.718647</td>\n",
              "      <td>0.721832</td>\n",
              "      <td>0.698925</td>\n",
              "    </tr>\n",
              "    <tr>\n",
              "      <th>Conv1D_token_embed</th>\n",
              "      <td>82.516881</td>\n",
              "      <td>0.824762</td>\n",
              "      <td>0.825169</td>\n",
              "      <td>0.823424</td>\n",
              "    </tr>\n",
              "    <tr>\n",
              "      <th>char_pretrained_word_embedding</th>\n",
              "      <td>80.031113</td>\n",
              "      <td>0.800693</td>\n",
              "      <td>0.800311</td>\n",
              "      <td>0.796529</td>\n",
              "    </tr>\n",
              "    <tr>\n",
              "      <th>char_pretrained_word_positional_embedding</th>\n",
              "      <td>86.253806</td>\n",
              "      <td>0.862822</td>\n",
              "      <td>0.862538</td>\n",
              "      <td>0.860366</td>\n",
              "    </tr>\n",
              "    <tr>\n",
              "      <th>char_word_positional_embedding</th>\n",
              "      <td>86.478883</td>\n",
              "      <td>0.868295</td>\n",
              "      <td>0.864789</td>\n",
              "      <td>0.861592</td>\n",
              "    </tr>\n",
              "  </tbody>\n",
              "</table>\n",
              "</div>\n",
              "      <button class=\"colab-df-convert\" onclick=\"convertToInteractive('df-d68483ce-b8e6-491f-8b0f-d3ecd66153eb')\"\n",
              "              title=\"Convert this dataframe to an interactive table.\"\n",
              "              style=\"display:none;\">\n",
              "        \n",
              "  <svg xmlns=\"http://www.w3.org/2000/svg\" height=\"24px\"viewBox=\"0 0 24 24\"\n",
              "       width=\"24px\">\n",
              "    <path d=\"M0 0h24v24H0V0z\" fill=\"none\"/>\n",
              "    <path d=\"M18.56 5.44l.94 2.06.94-2.06 2.06-.94-2.06-.94-.94-2.06-.94 2.06-2.06.94zm-11 1L8.5 8.5l.94-2.06 2.06-.94-2.06-.94L8.5 2.5l-.94 2.06-2.06.94zm10 10l.94 2.06.94-2.06 2.06-.94-2.06-.94-.94-2.06-.94 2.06-2.06.94z\"/><path d=\"M17.41 7.96l-1.37-1.37c-.4-.4-.92-.59-1.43-.59-.52 0-1.04.2-1.43.59L10.3 9.45l-7.72 7.72c-.78.78-.78 2.05 0 2.83L4 21.41c.39.39.9.59 1.41.59.51 0 1.02-.2 1.41-.59l7.78-7.78 2.81-2.81c.8-.78.8-2.07 0-2.86zM5.41 20L4 18.59l7.72-7.72 1.47 1.35L5.41 20z\"/>\n",
              "  </svg>\n",
              "      </button>\n",
              "      \n",
              "  <style>\n",
              "    .colab-df-container {\n",
              "      display:flex;\n",
              "      flex-wrap:wrap;\n",
              "      gap: 12px;\n",
              "    }\n",
              "\n",
              "    .colab-df-convert {\n",
              "      background-color: #E8F0FE;\n",
              "      border: none;\n",
              "      border-radius: 50%;\n",
              "      cursor: pointer;\n",
              "      display: none;\n",
              "      fill: #1967D2;\n",
              "      height: 32px;\n",
              "      padding: 0 0 0 0;\n",
              "      width: 32px;\n",
              "    }\n",
              "\n",
              "    .colab-df-convert:hover {\n",
              "      background-color: #E2EBFA;\n",
              "      box-shadow: 0px 1px 2px rgba(60, 64, 67, 0.3), 0px 1px 3px 1px rgba(60, 64, 67, 0.15);\n",
              "      fill: #174EA6;\n",
              "    }\n",
              "\n",
              "    [theme=dark] .colab-df-convert {\n",
              "      background-color: #3B4455;\n",
              "      fill: #D2E3FC;\n",
              "    }\n",
              "\n",
              "    [theme=dark] .colab-df-convert:hover {\n",
              "      background-color: #434B5C;\n",
              "      box-shadow: 0px 1px 3px 1px rgba(0, 0, 0, 0.15);\n",
              "      filter: drop-shadow(0px 1px 2px rgba(0, 0, 0, 0.3));\n",
              "      fill: #FFFFFF;\n",
              "    }\n",
              "  </style>\n",
              "\n",
              "      <script>\n",
              "        const buttonEl =\n",
              "          document.querySelector('#df-d68483ce-b8e6-491f-8b0f-d3ecd66153eb button.colab-df-convert');\n",
              "        buttonEl.style.display =\n",
              "          google.colab.kernel.accessAllowed ? 'block' : 'none';\n",
              "\n",
              "        async function convertToInteractive(key) {\n",
              "          const element = document.querySelector('#df-d68483ce-b8e6-491f-8b0f-d3ecd66153eb');\n",
              "          const dataTable =\n",
              "            await google.colab.kernel.invokeFunction('convertToInteractive',\n",
              "                                                     [key], {});\n",
              "          if (!dataTable) return;\n",
              "\n",
              "          const docLinkHtml = 'Like what you see? Visit the ' +\n",
              "            '<a target=\"_blank\" href=https://colab.research.google.com/notebooks/data_table.ipynb>data table notebook</a>'\n",
              "            + ' to learn more about interactive tables.';\n",
              "          element.innerHTML = '';\n",
              "          dataTable['output_type'] = 'display_data';\n",
              "          await google.colab.output.renderOutput(dataTable, element);\n",
              "          const docLink = document.createElement('div');\n",
              "          docLink.innerHTML = docLinkHtml;\n",
              "          element.appendChild(docLink);\n",
              "        }\n",
              "      </script>\n",
              "    </div>\n",
              "  </div>\n",
              "  "
            ]
          },
          "metadata": {},
          "execution_count": 195
        }
      ],
      "source": [
        "all_model_results = pd.DataFrame({\"baseline\": model_0_results,\n",
        "                                  \"Conv1D_token_embed\": model_1_results,\n",
        "                                  \"char_pretrained_word_embedding\": model_2_results,\n",
        "                                  \"char_pretrained_word_positional_embedding\": model_3_results,\n",
        "                                  \"char_word_positional_embedding\": model_4_results})\n",
        "\n",
        "all_model_results = all_model_results.transpose()\n",
        "all_model_results"
      ]
    },
    {
      "cell_type": "code",
      "execution_count": 196,
      "id": "cf454ca2-f183-44e4-8b93-65611ea87432",
      "metadata": {
        "id": "cf454ca2-f183-44e4-8b93-65611ea87432"
      },
      "outputs": [],
      "source": [
        "all_model_results[\"accuracy\"] = all_model_results[\"accuracy\"]/100"
      ]
    },
    {
      "cell_type": "code",
      "execution_count": 197,
      "id": "1e8a0a33-4451-411c-b695-3034d677a4de",
      "metadata": {
        "colab": {
          "base_uri": "https://localhost:8080/",
          "height": 642
        },
        "id": "1e8a0a33-4451-411c-b695-3034d677a4de",
        "outputId": "6ea95ffd-e060-4987-e48d-bacfabeae289"
      },
      "outputs": [
        {
          "output_type": "display_data",
          "data": {
            "text/plain": [
              "<Figure size 720x504 with 1 Axes>"
            ],
            "image/png": "[encoded data removed]"
          },
          "metadata": {
            "needs_background": "light"
          }
        }
      ],
      "source": [
        "all_model_results.plot(kind=\"bar\", figsize=(10, 7)).legend(bbox_to_anchor=(1.0, 1.0));"
      ]
    },
    {
      "cell_type": "code",
      "execution_count": 198,
      "id": "b8f7de2c-6aaf-46d7-84a9-c7c339893a16",
      "metadata": {
        "colab": {
          "base_uri": "https://localhost:8080/",
          "height": 642
        },
        "id": "b8f7de2c-6aaf-46d7-84a9-c7c339893a16",
        "outputId": "bc2bf89a-8720-4fec-8012-3493cb916ec3"
      },
      "outputs": [
        {
          "output_type": "display_data",
          "data": {
            "text/plain": [
              "<Figure size 720x504 with 1 Axes>"
            ],
            "image/png": "[encoded data removed]"
          },
          "metadata": {
            "needs_background": "light"
          }
        }
      ],
      "source": [
        "all_model_results.sort_values(\"f1\", ascending=False)[\"f1\"].plot(kind=\"bar\", figsize=(10, 7));"
      ]
    },
    {
      "cell_type": "markdown",
      "source": [
        "## Evaluating 2 best models on test dataset"
      ],
      "metadata": {
        "id": "Ycw-2JgYw9sR"
      },
      "id": "Ycw-2JgYw9sR"
    },
    {
      "cell_type": "code",
      "source": [
        "test_pos_char_word_data = tf.data.Dataset.from_tensor_slices((test_line_numbers_one_hot,\n",
        "                                                               test_total_lines_one_hot,\n",
        "                                                               test_sentences,\n",
        "                                                               test_chars))\n",
        "test_pos_char_word_labels = tf.data.Dataset.from_tensor_slices(test_labels_one_hot)\n",
        "test_pos_char_word_dataset = tf.data.Dataset.zip((test_pos_char_word_data, test_pos_char_word_labels))\n",
        "test_pos_char_word_dataset = test_pos_char_word_dataset.batch(32).prefetch(tf.data.AUTOTUNE)\n",
        "\n",
        "test_pos_char_word_dataset"
      ],
      "metadata": {
        "colab": {
          "base_uri": "https://localhost:8080/"
        },
        "id": "eS74tht2xCBp",
        "outputId": "374af1f6-bd16-4ac1-8daf-7aad34391492"
      },
      "id": "eS74tht2xCBp",
      "execution_count": 203,
      "outputs": [
        {
          "output_type": "execute_result",
          "data": {
            "text/plain": [
              "<PrefetchDataset element_spec=((TensorSpec(shape=(None, 15), dtype=tf.float32, name=None), TensorSpec(shape=(None, 20), dtype=tf.float32, name=None), TensorSpec(shape=(None,), dtype=tf.string, name=None), TensorSpec(shape=(None,), dtype=tf.string, name=None)), TensorSpec(shape=(None, 5), dtype=tf.float64, name=None))>"
            ]
          },
          "metadata": {},
          "execution_count": 203
        }
      ]
    },
    {
      "cell_type": "code",
      "source": [
        "test_pred_probs = model_4.predict(test_pos_char_word_dataset,\n",
        "                                  verbose=1)\n",
        "test_preds = tf.argmax(test_pred_probs, axis=1)\n",
        "test_preds[:10]"
      ],
      "metadata": {
        "colab": {
          "base_uri": "https://localhost:8080/"
        },
        "id": "mXRIBe1_x92p",
        "outputId": "aa343431-58ed-4a95-eeb0-34905f18d870"
      },
      "id": "mXRIBe1_x92p",
      "execution_count": 206,
      "outputs": [
        {
          "output_type": "stream",
          "name": "stdout",
          "text": [
            "942/942 [==============================] - 14s 15ms/step\n"
          ]
        },
        {
          "output_type": "execute_result",
          "data": {
            "text/plain": [
              "<tf.Tensor: shape=(10,), dtype=int64, numpy=array([4, 2, 2, 2, 4, 4, 4, 1, 1, 0])>"
            ]
          },
          "metadata": {},
          "execution_count": 206
        }
      ]
    },
    {
      "cell_type": "code",
      "source": [
        "model_4_test_results = calculate_results(y_true=test_labels_encoded,\n",
        "                                         y_pred=test_preds)\n",
        "model_4_test_results"
      ],
      "metadata": {
        "colab": {
          "base_uri": "https://localhost:8080/"
        },
        "id": "NM_WwvAFyB3R",
        "outputId": "c26f1afb-2b88-4c2d-b7e7-a08373ea21a2"
      },
      "id": "NM_WwvAFyB3R",
      "execution_count": 207,
      "outputs": [
        {
          "output_type": "execute_result",
          "data": {
            "text/plain": [
              "{'accuracy': 85.97975775676124,\n",
              " 'precision': 0.8619649591680605,\n",
              " 'recall': 0.8597975775676124,\n",
              " 'f1': 0.8560824474913552}"
            ]
          },
          "metadata": {},
          "execution_count": 207
        }
      ]
    },
    {
      "cell_type": "code",
      "source": [
        "test_pred_probs = model_3.predict(test_pos_char_word_dataset,\n",
        "                                  verbose=1)\n",
        "test_preds = tf.argmax(test_pred_probs, axis=1)\n",
        "test_preds[:10]\n",
        "\n",
        "model_3_test_results = calculate_results(y_true=test_labels_encoded,\n",
        "                                         y_pred=test_preds)\n",
        "model_3_test_results"
      ],
      "metadata": {
        "colab": {
          "base_uri": "https://localhost:8080/"
        },
        "id": "bkKzjUQe16a-",
        "outputId": "426eb9db-cb87-4a28-85cf-90b6a633a3ff"
      },
      "id": "bkKzjUQe16a-",
      "execution_count": 208,
      "outputs": [
        {
          "output_type": "stream",
          "name": "stdout",
          "text": [
            "942/942 [==============================] - 19s 20ms/step\n"
          ]
        },
        {
          "output_type": "execute_result",
          "data": {
            "text/plain": [
              "{'accuracy': 85.88684254189481,\n",
              " 'precision': 0.8591401414120157,\n",
              " 'recall': 0.858868425418948,\n",
              " 'f1': 0.856180533285835}"
            ]
          },
          "metadata": {},
          "execution_count": 208
        }
      ]
    },
    {
      "cell_type": "markdown",
      "source": [
        "## Viewing Training results on Tensorboard\n",
        "\n",
        "https://tensorboard.dev/experiment/SEn1rZGlSvKtVwjlZIexlQ/#scalars"
      ],
      "metadata": {
        "id": "sT89j3QA3bbq"
      },
      "id": "sT89j3QA3bbq"
    },
    {
      "cell_type": "code",
      "source": [
        "!tensorboard dev upload --logdir ./drive/MyDrive/SkimLit/training_logs \\\n",
        "   --name \"SkimLit Models\" \\\n",
        "   --description \"Training results for different models\" \\\n",
        "   --one_shot"
      ],
      "metadata": {
        "id": "QSSyUNew3fuZ"
      },
      "id": "QSSyUNew3fuZ",
      "execution_count": null,
      "outputs": []
    }
  ],
  "metadata": {
    "accelerator": "GPU",
    "colab": {
      "provenance": [],
      "toc_visible": true
    },
    "gpuClass": "standard",
    "kernelspec": {
      "display_name": "Python 3 (ipykernel)",
      "language": "python",
      "name": "python3"
    },
    "language_info": {
      "codemirror_mode": {
        "name": "ipython",
        "version": 3
      },
      "file_extension": ".py",
      "mimetype": "text/x-python",
      "name": "python",
      "nbconvert_exporter": "python",
      "pygments_lexer": "ipython3",
      "version": "3.8.0"
    }
  },
  "nbformat": 4,
  "nbformat_minor": 5
}